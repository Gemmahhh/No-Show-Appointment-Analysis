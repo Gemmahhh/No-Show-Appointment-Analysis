{
 "cells": [
  {
   "cell_type": "markdown",
   "id": "4c6fa2ee",
   "metadata": {},
   "source": [
    "# NO-SHOW APPOINTMENTS ANALYSIS"
   ]
  },
  {
   "cell_type": "markdown",
   "id": "0f758987",
   "metadata": {},
   "source": [
    "## TABLE OF CONTENTS \n",
    "- [Introduction](#INTRODUCTION) \n",
    "- [Importing Libraries and Loading Dataframes](#IMPORTING-LIBRARIES-AND-LOAGING-DATAFRAMES)\n",
    "- [Data Wrangling](#DATA-WRANGLING) \n",
    "- [Data Cleaning](#DATA-CLEANING) \n",
    "- [Data Analysis and Visualization](#DATA-ANALYSIS-AND-VISUALIZATION)\n",
    "- [Conclusion](#CONCLUSION)\n",
    "- [Limitations](#LIMITATIONS)"
   ]
  },
  {
   "cell_type": "markdown",
   "id": "550e0ca3",
   "metadata": {},
   "source": [
    "### INTRODUCTION"
   ]
  },
  {
   "cell_type": "markdown",
   "id": "7f8994f9",
   "metadata": {},
   "source": [
    "A person makes a doctor's appointment, recieves all the instructions and doesn't show up for their appointment, WHO IS TO BLAME? \n",
    "\n",
    "The dataset collects information from 100K medical appointments in Brazil and is focused on the question 'whether or not patient shows up for their appointments'. The dataset was gooten from kaggle. "
   ]
  },
  {
   "cell_type": "markdown",
   "id": "9d371705",
   "metadata": {},
   "source": [
    "**DATA DICTIONARY**"
   ]
  },
  {
   "cell_type": "markdown",
   "id": "a46ad7fe",
   "metadata": {},
   "source": [
    "**PatientId** - Identification of a patient \n",
    "\n",
    "**AppointmentID** - Identification of each appointment\n",
    "\n",
    "**Gender** - Male or Female. Female is the greater proportion, woman takes more care of their health in comparison to men\n",
    "\n",
    "**ScheduledDay** - The day someone called or registered for the appointment, this is before the apointment\n",
    "\n",
    "**AppointmentDay** - The day of the actual appointment, when they have to visit the doctor\n",
    "\n",
    "**Age** - How old is the patient\n",
    "\n",
    "**Neighbourhood** - Where the appointment takes place\n",
    "\n",
    "**Scholarship** - True or False (0 - false, 1 - true)\n",
    "\n",
    "**Hypertension** - True or false \n",
    "\n",
    "**Diabetes** - True or false\n",
    "\n",
    "**Alcoholism** - True or false\n",
    "\n",
    "**Handicaped** - True or false\n",
    "\n",
    "**SMS_recieved** - True or false\n",
    "\n",
    "**No_show** - Yes or No. No means the patient showed up on the appointment day and Yes means the patient did not show up"
   ]
  },
  {
   "cell_type": "markdown",
   "id": "06df7f78",
   "metadata": {},
   "source": [
    "**KEY QUESTIONS THIS ANALYSIS WOULD BE ANSWERING**"
   ]
  },
  {
   "cell_type": "markdown",
   "id": "1eddcb24",
   "metadata": {},
   "source": [
    "1. Does gender have any impact on how patients show-up?\n",
    "\n",
    "          Does being diabetic affect how male/female show up?\n",
    "     \n",
    "          Does being alcoholic affect how male/female show up?\n",
    "     \n",
    "          Does being handicaped affect how male/female show up?\n",
    "     \n",
    "          Does recieving SMS affect how male/female show up?\n",
    "          \n",
    "2. Does the increase in number of wait days affect how patients show up?\n",
    "\n",
    "3. Does Age affect how patient shows up?\n",
    "\n",
    "4. Does being on scholarship increase the chances of a patient showing up?\n",
    "   \n",
    "         Do hypertensive patients show up more when they're on scholarship?\n",
    "   \n",
    "         Do diabetic patients show up more when they're on scholarship?\n",
    "   \n",
    "         Do alcoholic patients show up more when they're on scholarship?\n",
    "   \n",
    "         Do handicaped patients show up more when they're on scholarship?\n",
    "         \n",
    "5. Does recieving SMS increase the chances of a patient showing up?\n",
    "\n",
    "6. Does setting appointments on particular days increase the chances of a patient showing up?"
   ]
  },
  {
   "cell_type": "markdown",
   "id": "4719c0be",
   "metadata": {},
   "source": [
    "### IMPORTING LIBRARIES AND LOAGING DATAFRAMES"
   ]
  },
  {
   "cell_type": "code",
   "execution_count": 72,
   "id": "fb7b321f",
   "metadata": {},
   "outputs": [],
   "source": [
    "import pandas as pd\n",
    "import numpy as np\n",
    "import seaborn as sns\n",
    "import matplotlib.pyplot as plt\n",
    "%matplotlib inline\n",
    "\n",
    "show_original = pd.read_csv('noshowappointments.csv')"
   ]
  },
  {
   "cell_type": "code",
   "execution_count": 73,
   "id": "6b2bc4cf",
   "metadata": {},
   "outputs": [],
   "source": [
    "# make a copy of the dataframe to avoid loss\n",
    "\n",
    "show = show_original.copy()"
   ]
  },
  {
   "cell_type": "code",
   "execution_count": 74,
   "id": "c1ecce0e",
   "metadata": {},
   "outputs": [
    {
     "data": {
      "text/html": [
       "<div>\n",
       "<style scoped>\n",
       "    .dataframe tbody tr th:only-of-type {\n",
       "        vertical-align: middle;\n",
       "    }\n",
       "\n",
       "    .dataframe tbody tr th {\n",
       "        vertical-align: top;\n",
       "    }\n",
       "\n",
       "    .dataframe thead th {\n",
       "        text-align: right;\n",
       "    }\n",
       "</style>\n",
       "<table border=\"1\" class=\"dataframe\">\n",
       "  <thead>\n",
       "    <tr style=\"text-align: right;\">\n",
       "      <th></th>\n",
       "      <th>PatientId</th>\n",
       "      <th>AppointmentID</th>\n",
       "      <th>Gender</th>\n",
       "      <th>ScheduledDay</th>\n",
       "      <th>AppointmentDay</th>\n",
       "      <th>Age</th>\n",
       "      <th>Neighbourhood</th>\n",
       "      <th>Scholarship</th>\n",
       "      <th>Hipertension</th>\n",
       "      <th>Diabetes</th>\n",
       "      <th>Alcoholism</th>\n",
       "      <th>Handcap</th>\n",
       "      <th>SMS_received</th>\n",
       "      <th>No-show</th>\n",
       "    </tr>\n",
       "  </thead>\n",
       "  <tbody>\n",
       "    <tr>\n",
       "      <th>0</th>\n",
       "      <td>2.987250e+13</td>\n",
       "      <td>5642903</td>\n",
       "      <td>F</td>\n",
       "      <td>2016-04-29T18:38:08Z</td>\n",
       "      <td>2016-04-29T00:00:00Z</td>\n",
       "      <td>62</td>\n",
       "      <td>JARDIM DA PENHA</td>\n",
       "      <td>0</td>\n",
       "      <td>1</td>\n",
       "      <td>0</td>\n",
       "      <td>0</td>\n",
       "      <td>0</td>\n",
       "      <td>0</td>\n",
       "      <td>No</td>\n",
       "    </tr>\n",
       "    <tr>\n",
       "      <th>1</th>\n",
       "      <td>5.589978e+14</td>\n",
       "      <td>5642503</td>\n",
       "      <td>M</td>\n",
       "      <td>2016-04-29T16:08:27Z</td>\n",
       "      <td>2016-04-29T00:00:00Z</td>\n",
       "      <td>56</td>\n",
       "      <td>JARDIM DA PENHA</td>\n",
       "      <td>0</td>\n",
       "      <td>0</td>\n",
       "      <td>0</td>\n",
       "      <td>0</td>\n",
       "      <td>0</td>\n",
       "      <td>0</td>\n",
       "      <td>No</td>\n",
       "    </tr>\n",
       "    <tr>\n",
       "      <th>2</th>\n",
       "      <td>4.262962e+12</td>\n",
       "      <td>5642549</td>\n",
       "      <td>F</td>\n",
       "      <td>2016-04-29T16:19:04Z</td>\n",
       "      <td>2016-04-29T00:00:00Z</td>\n",
       "      <td>62</td>\n",
       "      <td>MATA DA PRAIA</td>\n",
       "      <td>0</td>\n",
       "      <td>0</td>\n",
       "      <td>0</td>\n",
       "      <td>0</td>\n",
       "      <td>0</td>\n",
       "      <td>0</td>\n",
       "      <td>No</td>\n",
       "    </tr>\n",
       "  </tbody>\n",
       "</table>\n",
       "</div>"
      ],
      "text/plain": [
       "      PatientId  AppointmentID Gender          ScheduledDay  \\\n",
       "0  2.987250e+13        5642903      F  2016-04-29T18:38:08Z   \n",
       "1  5.589978e+14        5642503      M  2016-04-29T16:08:27Z   \n",
       "2  4.262962e+12        5642549      F  2016-04-29T16:19:04Z   \n",
       "\n",
       "         AppointmentDay  Age    Neighbourhood  Scholarship  Hipertension  \\\n",
       "0  2016-04-29T00:00:00Z   62  JARDIM DA PENHA            0             1   \n",
       "1  2016-04-29T00:00:00Z   56  JARDIM DA PENHA            0             0   \n",
       "2  2016-04-29T00:00:00Z   62    MATA DA PRAIA            0             0   \n",
       "\n",
       "   Diabetes  Alcoholism  Handcap  SMS_received No-show  \n",
       "0         0           0        0             0      No  \n",
       "1         0           0        0             0      No  \n",
       "2         0           0        0             0      No  "
      ]
     },
     "execution_count": 74,
     "metadata": {},
     "output_type": "execute_result"
    }
   ],
   "source": [
    "# preview the dataframe\n",
    "\n",
    "show.head(3)"
   ]
  },
  {
   "cell_type": "markdown",
   "id": "815401e2",
   "metadata": {},
   "source": [
    "### DATA WRANGLING "
   ]
  },
  {
   "cell_type": "code",
   "execution_count": 75,
   "id": "a61de68b",
   "metadata": {},
   "outputs": [
    {
     "data": {
      "text/plain": [
       "(110527, 14)"
      ]
     },
     "execution_count": 75,
     "metadata": {},
     "output_type": "execute_result"
    }
   ],
   "source": [
    "show.shape"
   ]
  },
  {
   "cell_type": "code",
   "execution_count": 76,
   "id": "f9718e94",
   "metadata": {},
   "outputs": [
    {
     "name": "stdout",
     "output_type": "stream",
     "text": [
      "<class 'pandas.core.frame.DataFrame'>\n",
      "RangeIndex: 110527 entries, 0 to 110526\n",
      "Data columns (total 14 columns):\n",
      " #   Column          Non-Null Count   Dtype  \n",
      "---  ------          --------------   -----  \n",
      " 0   PatientId       110527 non-null  float64\n",
      " 1   AppointmentID   110527 non-null  int64  \n",
      " 2   Gender          110527 non-null  object \n",
      " 3   ScheduledDay    110527 non-null  object \n",
      " 4   AppointmentDay  110527 non-null  object \n",
      " 5   Age             110527 non-null  int64  \n",
      " 6   Neighbourhood   110527 non-null  object \n",
      " 7   Scholarship     110527 non-null  int64  \n",
      " 8   Hipertension    110527 non-null  int64  \n",
      " 9   Diabetes        110527 non-null  int64  \n",
      " 10  Alcoholism      110527 non-null  int64  \n",
      " 11  Handcap         110527 non-null  int64  \n",
      " 12  SMS_received    110527 non-null  int64  \n",
      " 13  No-show         110527 non-null  object \n",
      "dtypes: float64(1), int64(8), object(5)\n",
      "memory usage: 11.8+ MB\n"
     ]
    }
   ],
   "source": [
    "show.info()"
   ]
  },
  {
   "cell_type": "markdown",
   "id": "bdbc79d1",
   "metadata": {},
   "source": [
    "The dataset isn't missing any value\n",
    "\n",
    "The data types of some of the columns are wrong, this would be corrected at the [Data Cleaning](#DATA-CLEANING) section\n",
    "\n",
    "For readability and analysis purposes, some of the column names would be changed at the [Data Cleaning](#DATA-CLEANING) section "
   ]
  },
  {
   "cell_type": "code",
   "execution_count": 77,
   "id": "2d73862a",
   "metadata": {},
   "outputs": [
    {
     "data": {
      "text/html": [
       "<div>\n",
       "<style scoped>\n",
       "    .dataframe tbody tr th:only-of-type {\n",
       "        vertical-align: middle;\n",
       "    }\n",
       "\n",
       "    .dataframe tbody tr th {\n",
       "        vertical-align: top;\n",
       "    }\n",
       "\n",
       "    .dataframe thead th {\n",
       "        text-align: right;\n",
       "    }\n",
       "</style>\n",
       "<table border=\"1\" class=\"dataframe\">\n",
       "  <thead>\n",
       "    <tr style=\"text-align: right;\">\n",
       "      <th></th>\n",
       "      <th>PatientId</th>\n",
       "      <th>AppointmentID</th>\n",
       "      <th>Age</th>\n",
       "      <th>Scholarship</th>\n",
       "      <th>Hipertension</th>\n",
       "      <th>Diabetes</th>\n",
       "      <th>Alcoholism</th>\n",
       "      <th>Handcap</th>\n",
       "      <th>SMS_received</th>\n",
       "    </tr>\n",
       "  </thead>\n",
       "  <tbody>\n",
       "    <tr>\n",
       "      <th>count</th>\n",
       "      <td>1.105270e+05</td>\n",
       "      <td>1.105270e+05</td>\n",
       "      <td>110527.000000</td>\n",
       "      <td>110527.000000</td>\n",
       "      <td>110527.000000</td>\n",
       "      <td>110527.000000</td>\n",
       "      <td>110527.000000</td>\n",
       "      <td>110527.000000</td>\n",
       "      <td>110527.000000</td>\n",
       "    </tr>\n",
       "    <tr>\n",
       "      <th>mean</th>\n",
       "      <td>1.474963e+14</td>\n",
       "      <td>5.675305e+06</td>\n",
       "      <td>37.088874</td>\n",
       "      <td>0.098266</td>\n",
       "      <td>0.197246</td>\n",
       "      <td>0.071865</td>\n",
       "      <td>0.030400</td>\n",
       "      <td>0.022248</td>\n",
       "      <td>0.321026</td>\n",
       "    </tr>\n",
       "    <tr>\n",
       "      <th>std</th>\n",
       "      <td>2.560949e+14</td>\n",
       "      <td>7.129575e+04</td>\n",
       "      <td>23.110205</td>\n",
       "      <td>0.297675</td>\n",
       "      <td>0.397921</td>\n",
       "      <td>0.258265</td>\n",
       "      <td>0.171686</td>\n",
       "      <td>0.161543</td>\n",
       "      <td>0.466873</td>\n",
       "    </tr>\n",
       "    <tr>\n",
       "      <th>min</th>\n",
       "      <td>3.921784e+04</td>\n",
       "      <td>5.030230e+06</td>\n",
       "      <td>-1.000000</td>\n",
       "      <td>0.000000</td>\n",
       "      <td>0.000000</td>\n",
       "      <td>0.000000</td>\n",
       "      <td>0.000000</td>\n",
       "      <td>0.000000</td>\n",
       "      <td>0.000000</td>\n",
       "    </tr>\n",
       "    <tr>\n",
       "      <th>25%</th>\n",
       "      <td>4.172614e+12</td>\n",
       "      <td>5.640286e+06</td>\n",
       "      <td>18.000000</td>\n",
       "      <td>0.000000</td>\n",
       "      <td>0.000000</td>\n",
       "      <td>0.000000</td>\n",
       "      <td>0.000000</td>\n",
       "      <td>0.000000</td>\n",
       "      <td>0.000000</td>\n",
       "    </tr>\n",
       "    <tr>\n",
       "      <th>50%</th>\n",
       "      <td>3.173184e+13</td>\n",
       "      <td>5.680573e+06</td>\n",
       "      <td>37.000000</td>\n",
       "      <td>0.000000</td>\n",
       "      <td>0.000000</td>\n",
       "      <td>0.000000</td>\n",
       "      <td>0.000000</td>\n",
       "      <td>0.000000</td>\n",
       "      <td>0.000000</td>\n",
       "    </tr>\n",
       "    <tr>\n",
       "      <th>75%</th>\n",
       "      <td>9.439172e+13</td>\n",
       "      <td>5.725524e+06</td>\n",
       "      <td>55.000000</td>\n",
       "      <td>0.000000</td>\n",
       "      <td>0.000000</td>\n",
       "      <td>0.000000</td>\n",
       "      <td>0.000000</td>\n",
       "      <td>0.000000</td>\n",
       "      <td>1.000000</td>\n",
       "    </tr>\n",
       "    <tr>\n",
       "      <th>max</th>\n",
       "      <td>9.999816e+14</td>\n",
       "      <td>5.790484e+06</td>\n",
       "      <td>115.000000</td>\n",
       "      <td>1.000000</td>\n",
       "      <td>1.000000</td>\n",
       "      <td>1.000000</td>\n",
       "      <td>1.000000</td>\n",
       "      <td>4.000000</td>\n",
       "      <td>1.000000</td>\n",
       "    </tr>\n",
       "  </tbody>\n",
       "</table>\n",
       "</div>"
      ],
      "text/plain": [
       "          PatientId  AppointmentID            Age    Scholarship  \\\n",
       "count  1.105270e+05   1.105270e+05  110527.000000  110527.000000   \n",
       "mean   1.474963e+14   5.675305e+06      37.088874       0.098266   \n",
       "std    2.560949e+14   7.129575e+04      23.110205       0.297675   \n",
       "min    3.921784e+04   5.030230e+06      -1.000000       0.000000   \n",
       "25%    4.172614e+12   5.640286e+06      18.000000       0.000000   \n",
       "50%    3.173184e+13   5.680573e+06      37.000000       0.000000   \n",
       "75%    9.439172e+13   5.725524e+06      55.000000       0.000000   \n",
       "max    9.999816e+14   5.790484e+06     115.000000       1.000000   \n",
       "\n",
       "        Hipertension       Diabetes     Alcoholism        Handcap  \\\n",
       "count  110527.000000  110527.000000  110527.000000  110527.000000   \n",
       "mean        0.197246       0.071865       0.030400       0.022248   \n",
       "std         0.397921       0.258265       0.171686       0.161543   \n",
       "min         0.000000       0.000000       0.000000       0.000000   \n",
       "25%         0.000000       0.000000       0.000000       0.000000   \n",
       "50%         0.000000       0.000000       0.000000       0.000000   \n",
       "75%         0.000000       0.000000       0.000000       0.000000   \n",
       "max         1.000000       1.000000       1.000000       4.000000   \n",
       "\n",
       "        SMS_received  \n",
       "count  110527.000000  \n",
       "mean        0.321026  \n",
       "std         0.466873  \n",
       "min         0.000000  \n",
       "25%         0.000000  \n",
       "50%         0.000000  \n",
       "75%         1.000000  \n",
       "max         1.000000  "
      ]
     },
     "execution_count": 77,
     "metadata": {},
     "output_type": "execute_result"
    }
   ],
   "source": [
    "show.describe()"
   ]
  },
  {
   "cell_type": "markdown",
   "id": "a635067a",
   "metadata": {},
   "source": [
    "### DATA CLEANING"
   ]
  },
  {
   "cell_type": "markdown",
   "id": "de979187",
   "metadata": {},
   "source": [
    "First, the  PatientId and AppointmentID columns would not be necessary for this analysis, so they would both be dropped"
   ]
  },
  {
   "cell_type": "code",
   "execution_count": 78,
   "id": "549d0bf3",
   "metadata": {},
   "outputs": [],
   "source": [
    "# drop the 2 columns \n",
    "\n",
    "show.drop(['PatientId', 'AppointmentID'], inplace = True, axis = 1)"
   ]
  },
  {
   "cell_type": "code",
   "execution_count": 79,
   "id": "36fa0937",
   "metadata": {},
   "outputs": [
    {
     "data": {
      "text/html": [
       "<div>\n",
       "<style scoped>\n",
       "    .dataframe tbody tr th:only-of-type {\n",
       "        vertical-align: middle;\n",
       "    }\n",
       "\n",
       "    .dataframe tbody tr th {\n",
       "        vertical-align: top;\n",
       "    }\n",
       "\n",
       "    .dataframe thead th {\n",
       "        text-align: right;\n",
       "    }\n",
       "</style>\n",
       "<table border=\"1\" class=\"dataframe\">\n",
       "  <thead>\n",
       "    <tr style=\"text-align: right;\">\n",
       "      <th></th>\n",
       "      <th>Gender</th>\n",
       "      <th>ScheduledDay</th>\n",
       "      <th>AppointmentDay</th>\n",
       "      <th>Age</th>\n",
       "      <th>Neighbourhood</th>\n",
       "      <th>Scholarship</th>\n",
       "      <th>Hipertension</th>\n",
       "      <th>Diabetes</th>\n",
       "      <th>Alcoholism</th>\n",
       "      <th>Handcap</th>\n",
       "      <th>SMS_received</th>\n",
       "      <th>No-show</th>\n",
       "    </tr>\n",
       "  </thead>\n",
       "  <tbody>\n",
       "    <tr>\n",
       "      <th>0</th>\n",
       "      <td>F</td>\n",
       "      <td>2016-04-29T18:38:08Z</td>\n",
       "      <td>2016-04-29T00:00:00Z</td>\n",
       "      <td>62</td>\n",
       "      <td>JARDIM DA PENHA</td>\n",
       "      <td>0</td>\n",
       "      <td>1</td>\n",
       "      <td>0</td>\n",
       "      <td>0</td>\n",
       "      <td>0</td>\n",
       "      <td>0</td>\n",
       "      <td>No</td>\n",
       "    </tr>\n",
       "    <tr>\n",
       "      <th>1</th>\n",
       "      <td>M</td>\n",
       "      <td>2016-04-29T16:08:27Z</td>\n",
       "      <td>2016-04-29T00:00:00Z</td>\n",
       "      <td>56</td>\n",
       "      <td>JARDIM DA PENHA</td>\n",
       "      <td>0</td>\n",
       "      <td>0</td>\n",
       "      <td>0</td>\n",
       "      <td>0</td>\n",
       "      <td>0</td>\n",
       "      <td>0</td>\n",
       "      <td>No</td>\n",
       "    </tr>\n",
       "    <tr>\n",
       "      <th>2</th>\n",
       "      <td>F</td>\n",
       "      <td>2016-04-29T16:19:04Z</td>\n",
       "      <td>2016-04-29T00:00:00Z</td>\n",
       "      <td>62</td>\n",
       "      <td>MATA DA PRAIA</td>\n",
       "      <td>0</td>\n",
       "      <td>0</td>\n",
       "      <td>0</td>\n",
       "      <td>0</td>\n",
       "      <td>0</td>\n",
       "      <td>0</td>\n",
       "      <td>No</td>\n",
       "    </tr>\n",
       "  </tbody>\n",
       "</table>\n",
       "</div>"
      ],
      "text/plain": [
       "  Gender          ScheduledDay        AppointmentDay  Age    Neighbourhood  \\\n",
       "0      F  2016-04-29T18:38:08Z  2016-04-29T00:00:00Z   62  JARDIM DA PENHA   \n",
       "1      M  2016-04-29T16:08:27Z  2016-04-29T00:00:00Z   56  JARDIM DA PENHA   \n",
       "2      F  2016-04-29T16:19:04Z  2016-04-29T00:00:00Z   62    MATA DA PRAIA   \n",
       "\n",
       "   Scholarship  Hipertension  Diabetes  Alcoholism  Handcap  SMS_received  \\\n",
       "0            0             1         0           0        0             0   \n",
       "1            0             0         0           0        0             0   \n",
       "2            0             0         0           0        0             0   \n",
       "\n",
       "  No-show  \n",
       "0      No  \n",
       "1      No  \n",
       "2      No  "
      ]
     },
     "execution_count": 79,
     "metadata": {},
     "output_type": "execute_result"
    }
   ],
   "source": [
    "# verify that both columns have been dropped\n",
    "\n",
    "show.head(3)"
   ]
  },
  {
   "cell_type": "markdown",
   "id": "cd5d23fb",
   "metadata": {},
   "source": [
    "Next, change the column names of some of the columns (Handcap, hipertension and no-show)"
   ]
  },
  {
   "cell_type": "code",
   "execution_count": 80,
   "id": "b1255dbc",
   "metadata": {},
   "outputs": [],
   "source": [
    "show.rename(columns = {'Handcap': 'Handicap', 'Hipertension': 'Hypertension', 'No-show': 'No_show'}, inplace = True)"
   ]
  },
  {
   "cell_type": "code",
   "execution_count": 81,
   "id": "efd2de1b",
   "metadata": {},
   "outputs": [
    {
     "data": {
      "text/html": [
       "<div>\n",
       "<style scoped>\n",
       "    .dataframe tbody tr th:only-of-type {\n",
       "        vertical-align: middle;\n",
       "    }\n",
       "\n",
       "    .dataframe tbody tr th {\n",
       "        vertical-align: top;\n",
       "    }\n",
       "\n",
       "    .dataframe thead th {\n",
       "        text-align: right;\n",
       "    }\n",
       "</style>\n",
       "<table border=\"1\" class=\"dataframe\">\n",
       "  <thead>\n",
       "    <tr style=\"text-align: right;\">\n",
       "      <th></th>\n",
       "      <th>Gender</th>\n",
       "      <th>ScheduledDay</th>\n",
       "      <th>AppointmentDay</th>\n",
       "      <th>Age</th>\n",
       "      <th>Neighbourhood</th>\n",
       "      <th>Scholarship</th>\n",
       "      <th>Hypertension</th>\n",
       "      <th>Diabetes</th>\n",
       "      <th>Alcoholism</th>\n",
       "      <th>Handicap</th>\n",
       "      <th>SMS_received</th>\n",
       "      <th>No_show</th>\n",
       "    </tr>\n",
       "  </thead>\n",
       "  <tbody>\n",
       "    <tr>\n",
       "      <th>0</th>\n",
       "      <td>F</td>\n",
       "      <td>2016-04-29T18:38:08Z</td>\n",
       "      <td>2016-04-29T00:00:00Z</td>\n",
       "      <td>62</td>\n",
       "      <td>JARDIM DA PENHA</td>\n",
       "      <td>0</td>\n",
       "      <td>1</td>\n",
       "      <td>0</td>\n",
       "      <td>0</td>\n",
       "      <td>0</td>\n",
       "      <td>0</td>\n",
       "      <td>No</td>\n",
       "    </tr>\n",
       "    <tr>\n",
       "      <th>1</th>\n",
       "      <td>M</td>\n",
       "      <td>2016-04-29T16:08:27Z</td>\n",
       "      <td>2016-04-29T00:00:00Z</td>\n",
       "      <td>56</td>\n",
       "      <td>JARDIM DA PENHA</td>\n",
       "      <td>0</td>\n",
       "      <td>0</td>\n",
       "      <td>0</td>\n",
       "      <td>0</td>\n",
       "      <td>0</td>\n",
       "      <td>0</td>\n",
       "      <td>No</td>\n",
       "    </tr>\n",
       "    <tr>\n",
       "      <th>2</th>\n",
       "      <td>F</td>\n",
       "      <td>2016-04-29T16:19:04Z</td>\n",
       "      <td>2016-04-29T00:00:00Z</td>\n",
       "      <td>62</td>\n",
       "      <td>MATA DA PRAIA</td>\n",
       "      <td>0</td>\n",
       "      <td>0</td>\n",
       "      <td>0</td>\n",
       "      <td>0</td>\n",
       "      <td>0</td>\n",
       "      <td>0</td>\n",
       "      <td>No</td>\n",
       "    </tr>\n",
       "  </tbody>\n",
       "</table>\n",
       "</div>"
      ],
      "text/plain": [
       "  Gender          ScheduledDay        AppointmentDay  Age    Neighbourhood  \\\n",
       "0      F  2016-04-29T18:38:08Z  2016-04-29T00:00:00Z   62  JARDIM DA PENHA   \n",
       "1      M  2016-04-29T16:08:27Z  2016-04-29T00:00:00Z   56  JARDIM DA PENHA   \n",
       "2      F  2016-04-29T16:19:04Z  2016-04-29T00:00:00Z   62    MATA DA PRAIA   \n",
       "\n",
       "   Scholarship  Hypertension  Diabetes  Alcoholism  Handicap  SMS_received  \\\n",
       "0            0             1         0           0         0             0   \n",
       "1            0             0         0           0         0             0   \n",
       "2            0             0         0           0         0             0   \n",
       "\n",
       "  No_show  \n",
       "0      No  \n",
       "1      No  \n",
       "2      No  "
      ]
     },
     "execution_count": 81,
     "metadata": {},
     "output_type": "execute_result"
    }
   ],
   "source": [
    "# verify that the change has occured\n",
    "\n",
    "show.head(3)"
   ]
  },
  {
   "cell_type": "markdown",
   "id": "e8a2531c",
   "metadata": {},
   "source": [
    "Now, for the unique values for some of the columns "
   ]
  },
  {
   "cell_type": "code",
   "execution_count": 82,
   "id": "aeeb5bb4",
   "metadata": {},
   "outputs": [
    {
     "name": "stdout",
     "output_type": "stream",
     "text": [
      "Unique Values in `Gender` => ['F' 'M']\n",
      "Unique Values in `Age` => [ 62  56   8  76  23  39  21  19  30  29  22  28  54  15  50  40  46   4\n",
      "  13  65  45  51  32  12  61  38  79  18  63  64  85  59  55  71  49  78\n",
      "  31  58  27   6   2  11   7   0   3   1  69  68  60  67  36  10  35  20\n",
      "  26  34  33  16  42   5  47  17  41  44  37  24  66  77  81  70  53  75\n",
      "  73  52  74  43  89  57  14   9  48  83  72  25  80  87  88  84  82  90\n",
      "  94  86  91  98  92  96  93  95  97 102 115 100  99  -1]\n",
      "Unique Values in `Scholarship` => [0 1]\n",
      "Unique Values in `Hypertension` => [1 0]\n",
      "Unique Values in `Diabetes` => [0 1]\n",
      "Unique Values in `Alcoholism` => [0 1]\n",
      "Unique Values in `Handicap` => [0 1 2 3 4]\n",
      "Unique Values in `SMS_received` => [0 1]\n",
      "Unique Values in `No_show` => ['No' 'Yes']\n"
     ]
    }
   ],
   "source": [
    "# print unique values of some columns \n",
    "print(\"Unique Values in `Gender` => {}\".format(show.Gender.unique()))\n",
    "print(\"Unique Values in `Age` => {}\".format(show.Age.unique()))\n",
    "print(\"Unique Values in `Scholarship` => {}\".format(show.Scholarship.unique()))\n",
    "print(\"Unique Values in `Hypertension` => {}\".format(show.Hypertension.unique()))\n",
    "print(\"Unique Values in `Diabetes` => {}\".format(show.Diabetes.unique()))\n",
    "print(\"Unique Values in `Alcoholism` => {}\".format(show.Alcoholism.unique()))\n",
    "print(\"Unique Values in `Handicap` => {}\".format(show.Handicap.unique()))\n",
    "print(\"Unique Values in `SMS_received` => {}\".format(show.SMS_received.unique()))\n",
    "print(\"Unique Values in `No_show` => {}\".format(show.No_show.unique()))"
   ]
  },
  {
   "cell_type": "markdown",
   "id": "8da71090",
   "metadata": {},
   "source": [
    "We can see that one of the age in the Age column is '-1'. This is not normal. I'll look deeply into it to see what's wrong "
   ]
  },
  {
   "cell_type": "code",
   "execution_count": 83,
   "id": "68cc16c4",
   "metadata": {},
   "outputs": [
    {
     "data": {
      "text/html": [
       "<div>\n",
       "<style scoped>\n",
       "    .dataframe tbody tr th:only-of-type {\n",
       "        vertical-align: middle;\n",
       "    }\n",
       "\n",
       "    .dataframe tbody tr th {\n",
       "        vertical-align: top;\n",
       "    }\n",
       "\n",
       "    .dataframe thead th {\n",
       "        text-align: right;\n",
       "    }\n",
       "</style>\n",
       "<table border=\"1\" class=\"dataframe\">\n",
       "  <thead>\n",
       "    <tr style=\"text-align: right;\">\n",
       "      <th></th>\n",
       "      <th>Gender</th>\n",
       "      <th>ScheduledDay</th>\n",
       "      <th>AppointmentDay</th>\n",
       "      <th>Age</th>\n",
       "      <th>Neighbourhood</th>\n",
       "      <th>Scholarship</th>\n",
       "      <th>Hypertension</th>\n",
       "      <th>Diabetes</th>\n",
       "      <th>Alcoholism</th>\n",
       "      <th>Handicap</th>\n",
       "      <th>SMS_received</th>\n",
       "      <th>No_show</th>\n",
       "    </tr>\n",
       "  </thead>\n",
       "  <tbody>\n",
       "    <tr>\n",
       "      <th>99832</th>\n",
       "      <td>F</td>\n",
       "      <td>2016-06-06T08:58:13Z</td>\n",
       "      <td>2016-06-06T00:00:00Z</td>\n",
       "      <td>-1</td>\n",
       "      <td>ROMÃO</td>\n",
       "      <td>0</td>\n",
       "      <td>0</td>\n",
       "      <td>0</td>\n",
       "      <td>0</td>\n",
       "      <td>0</td>\n",
       "      <td>0</td>\n",
       "      <td>No</td>\n",
       "    </tr>\n",
       "  </tbody>\n",
       "</table>\n",
       "</div>"
      ],
      "text/plain": [
       "      Gender          ScheduledDay        AppointmentDay  Age Neighbourhood  \\\n",
       "99832      F  2016-06-06T08:58:13Z  2016-06-06T00:00:00Z   -1         ROMÃO   \n",
       "\n",
       "       Scholarship  Hypertension  Diabetes  Alcoholism  Handicap  \\\n",
       "99832            0             0         0           0         0   \n",
       "\n",
       "       SMS_received No_show  \n",
       "99832             0      No  "
      ]
     },
     "execution_count": 83,
     "metadata": {},
     "output_type": "execute_result"
    }
   ],
   "source": [
    "#show the column(s) where the Age is '-1'\n",
    "\n",
    "age_error = show.query('Age == -1')\n",
    "age_error"
   ]
  },
  {
   "cell_type": "markdown",
   "id": "d42ee218",
   "metadata": {},
   "source": [
    "There is just one row where the age is -1. The row can be dropped "
   ]
  },
  {
   "cell_type": "code",
   "execution_count": 84,
   "id": "7c2c3fb0",
   "metadata": {},
   "outputs": [],
   "source": [
    "# drop the row\n",
    "\n",
    "show.drop(99832, inplace = True)"
   ]
  },
  {
   "cell_type": "code",
   "execution_count": 85,
   "id": "51f81c15",
   "metadata": {},
   "outputs": [
    {
     "data": {
      "text/plain": [
       "(110526, 12)"
      ]
     },
     "execution_count": 85,
     "metadata": {},
     "output_type": "execute_result"
    }
   ],
   "source": [
    "# verifying that the row has been dropped \n",
    "\n",
    "show.shape"
   ]
  },
  {
   "cell_type": "markdown",
   "id": "1daaffc1",
   "metadata": {},
   "source": [
    "The number of rows reduced by one so it has been dropped"
   ]
  },
  {
   "cell_type": "markdown",
   "id": "e817e15a",
   "metadata": {},
   "source": [
    "Now, change the datatypes of some of the columns (ScheduledDay, AppointmentDay, Gender and No_show )"
   ]
  },
  {
   "cell_type": "code",
   "execution_count": 86,
   "id": "2122da95",
   "metadata": {},
   "outputs": [],
   "source": [
    "show['ScheduledDay'] = pd.to_datetime(show['ScheduledDay']).dt.date.astype('datetime64[ns]')\n",
    "show['AppointmentDay'] = pd.to_datetime(show['AppointmentDay']).dt.date.astype('datetime64[ns]')\n",
    "show['Gender'] = show['Gender'].astype(\"category\")\n",
    "show['No_show'] = show['No_show'].astype(\"category\")"
   ]
  },
  {
   "cell_type": "markdown",
   "id": "63552b13",
   "metadata": {},
   "source": [
    "From the dataset's description on kaggle, it can be seen that Handicap column should have 2 distinct values (1 and 0), but from the unique values we can see that Handicap has 4 unique values. Let's check the distribution of these values"
   ]
  },
  {
   "cell_type": "code",
   "execution_count": 87,
   "id": "5e5c9f15",
   "metadata": {},
   "outputs": [
    {
     "data": {
      "text/plain": [
       "0    108285\n",
       "1      2042\n",
       "2       183\n",
       "3        13\n",
       "4         3\n",
       "Name: Handicap, dtype: int64"
      ]
     },
     "execution_count": 87,
     "metadata": {},
     "output_type": "execute_result"
    }
   ],
   "source": [
    "show['Handicap'].value_counts()"
   ]
  },
  {
   "cell_type": "markdown",
   "id": "6caed81a",
   "metadata": {},
   "source": [
    "Now that we can see that '0' is a lot greater than the rest, it's safe to assume that '1,2,3 and 4' are different types of handicaps i.e(dumb, blind etc). We can group them together as one, being handicaped."
   ]
  },
  {
   "cell_type": "code",
   "execution_count": 88,
   "id": "f78f5bf9",
   "metadata": {},
   "outputs": [],
   "source": [
    "show['Handicap'] = show['Handicap'].apply(lambda x:0 if x == 0 else 1)"
   ]
  },
  {
   "cell_type": "code",
   "execution_count": 89,
   "id": "e01e505c",
   "metadata": {},
   "outputs": [
    {
     "data": {
      "text/plain": [
       "0    108285\n",
       "1      2241\n",
       "Name: Handicap, dtype: int64"
      ]
     },
     "execution_count": 89,
     "metadata": {},
     "output_type": "execute_result"
    }
   ],
   "source": [
    "# to verify \n",
    "\n",
    "show['Handicap'].value_counts()"
   ]
  },
  {
   "cell_type": "markdown",
   "id": "ea7e3e07",
   "metadata": {},
   "source": [
    "Now, I'll introduce a new column (WaitDays). This would tell us the number of days the patient had to wait after the scheduled day for the appointment day. The aim is to know if there is a trend of them showing up on time (or not) if the number of days they wait is long."
   ]
  },
  {
   "cell_type": "code",
   "execution_count": 90,
   "id": "354e3ade",
   "metadata": {},
   "outputs": [],
   "source": [
    "# create a column for WaitDays\n",
    "\n",
    "show['WaitDays'] = show['AppointmentDay'] - show['ScheduledDay']\n",
    "show['WaitDays'] = show['WaitDays'].dt.days"
   ]
  },
  {
   "cell_type": "code",
   "execution_count": 91,
   "id": "e12f1909",
   "metadata": {},
   "outputs": [
    {
     "data": {
      "text/html": [
       "<div>\n",
       "<style scoped>\n",
       "    .dataframe tbody tr th:only-of-type {\n",
       "        vertical-align: middle;\n",
       "    }\n",
       "\n",
       "    .dataframe tbody tr th {\n",
       "        vertical-align: top;\n",
       "    }\n",
       "\n",
       "    .dataframe thead th {\n",
       "        text-align: right;\n",
       "    }\n",
       "</style>\n",
       "<table border=\"1\" class=\"dataframe\">\n",
       "  <thead>\n",
       "    <tr style=\"text-align: right;\">\n",
       "      <th></th>\n",
       "      <th>Gender</th>\n",
       "      <th>ScheduledDay</th>\n",
       "      <th>AppointmentDay</th>\n",
       "      <th>Age</th>\n",
       "      <th>Neighbourhood</th>\n",
       "      <th>Scholarship</th>\n",
       "      <th>Hypertension</th>\n",
       "      <th>Diabetes</th>\n",
       "      <th>Alcoholism</th>\n",
       "      <th>Handicap</th>\n",
       "      <th>SMS_received</th>\n",
       "      <th>No_show</th>\n",
       "      <th>WaitDays</th>\n",
       "    </tr>\n",
       "  </thead>\n",
       "  <tbody>\n",
       "    <tr>\n",
       "      <th>0</th>\n",
       "      <td>F</td>\n",
       "      <td>2016-04-29</td>\n",
       "      <td>2016-04-29</td>\n",
       "      <td>62</td>\n",
       "      <td>JARDIM DA PENHA</td>\n",
       "      <td>0</td>\n",
       "      <td>1</td>\n",
       "      <td>0</td>\n",
       "      <td>0</td>\n",
       "      <td>0</td>\n",
       "      <td>0</td>\n",
       "      <td>No</td>\n",
       "      <td>0</td>\n",
       "    </tr>\n",
       "    <tr>\n",
       "      <th>1</th>\n",
       "      <td>M</td>\n",
       "      <td>2016-04-29</td>\n",
       "      <td>2016-04-29</td>\n",
       "      <td>56</td>\n",
       "      <td>JARDIM DA PENHA</td>\n",
       "      <td>0</td>\n",
       "      <td>0</td>\n",
       "      <td>0</td>\n",
       "      <td>0</td>\n",
       "      <td>0</td>\n",
       "      <td>0</td>\n",
       "      <td>No</td>\n",
       "      <td>0</td>\n",
       "    </tr>\n",
       "    <tr>\n",
       "      <th>2</th>\n",
       "      <td>F</td>\n",
       "      <td>2016-04-29</td>\n",
       "      <td>2016-04-29</td>\n",
       "      <td>62</td>\n",
       "      <td>MATA DA PRAIA</td>\n",
       "      <td>0</td>\n",
       "      <td>0</td>\n",
       "      <td>0</td>\n",
       "      <td>0</td>\n",
       "      <td>0</td>\n",
       "      <td>0</td>\n",
       "      <td>No</td>\n",
       "      <td>0</td>\n",
       "    </tr>\n",
       "  </tbody>\n",
       "</table>\n",
       "</div>"
      ],
      "text/plain": [
       "  Gender ScheduledDay AppointmentDay  Age    Neighbourhood  Scholarship  \\\n",
       "0      F   2016-04-29     2016-04-29   62  JARDIM DA PENHA            0   \n",
       "1      M   2016-04-29     2016-04-29   56  JARDIM DA PENHA            0   \n",
       "2      F   2016-04-29     2016-04-29   62    MATA DA PRAIA            0   \n",
       "\n",
       "   Hypertension  Diabetes  Alcoholism  Handicap  SMS_received No_show  \\\n",
       "0             1         0           0         0             0      No   \n",
       "1             0         0           0         0             0      No   \n",
       "2             0         0           0         0             0      No   \n",
       "\n",
       "   WaitDays  \n",
       "0         0  \n",
       "1         0  \n",
       "2         0  "
      ]
     },
     "execution_count": 91,
     "metadata": {},
     "output_type": "execute_result"
    }
   ],
   "source": [
    "show.head(3)"
   ]
  },
  {
   "cell_type": "code",
   "execution_count": 92,
   "id": "5ea60e2c",
   "metadata": {},
   "outputs": [
    {
     "data": {
      "text/plain": [
       "array([  0,   2,   3,   1,   4,   9,  29,  10,  23,  11,  18,  17,  14,\n",
       "        28,  24,  21,  15,  16,  22,  43,  30,  31,  42,  32,  56,  45,\n",
       "        46,  39,  37,  38,  44,  50,  60,  52,  53,  65,  67,  91,  66,\n",
       "        84,  78,  87, 115, 109,  63,  70,  72,  57,  58,  51,  59,  41,\n",
       "        49,  73,  64,  20,  33,  34,   6,  35,  36,  12,  13,  40,  47,\n",
       "         8,   5,   7,  25,  26,  48,  27,  19,  61,  55,  62, 176,  54,\n",
       "        77,  69,  83,  76,  89,  81, 103,  79,  68,  75,  85, 112,  -1,\n",
       "        80,  86,  98,  94, 142, 155, 162, 169, 104, 133, 125,  96,  88,\n",
       "        90, 151, 126, 127, 111, 119,  74,  71,  82, 108, 110, 102, 122,\n",
       "       101, 105,  92,  97,  93, 107,  95,  -6, 139, 132, 179, 117, 146,\n",
       "       123], dtype=int64)"
      ]
     },
     "execution_count": 92,
     "metadata": {},
     "output_type": "execute_result"
    }
   ],
   "source": [
    "show['WaitDays'].unique()"
   ]
  },
  {
   "cell_type": "markdown",
   "id": "d3522503",
   "metadata": {},
   "source": [
    "We can see that there is '-6' and '-1', this doesn't seem right, let's look into it further"
   ]
  },
  {
   "cell_type": "code",
   "execution_count": 93,
   "id": "3f7e1643",
   "metadata": {},
   "outputs": [
    {
     "data": {
      "text/html": [
       "<div>\n",
       "<style scoped>\n",
       "    .dataframe tbody tr th:only-of-type {\n",
       "        vertical-align: middle;\n",
       "    }\n",
       "\n",
       "    .dataframe tbody tr th {\n",
       "        vertical-align: top;\n",
       "    }\n",
       "\n",
       "    .dataframe thead th {\n",
       "        text-align: right;\n",
       "    }\n",
       "</style>\n",
       "<table border=\"1\" class=\"dataframe\">\n",
       "  <thead>\n",
       "    <tr style=\"text-align: right;\">\n",
       "      <th></th>\n",
       "      <th>Gender</th>\n",
       "      <th>ScheduledDay</th>\n",
       "      <th>AppointmentDay</th>\n",
       "      <th>Age</th>\n",
       "      <th>Neighbourhood</th>\n",
       "      <th>Scholarship</th>\n",
       "      <th>Hypertension</th>\n",
       "      <th>Diabetes</th>\n",
       "      <th>Alcoholism</th>\n",
       "      <th>Handicap</th>\n",
       "      <th>SMS_received</th>\n",
       "      <th>No_show</th>\n",
       "      <th>WaitDays</th>\n",
       "    </tr>\n",
       "  </thead>\n",
       "  <tbody>\n",
       "    <tr>\n",
       "      <th>27033</th>\n",
       "      <td>M</td>\n",
       "      <td>2016-05-10</td>\n",
       "      <td>2016-05-09</td>\n",
       "      <td>38</td>\n",
       "      <td>RESISTÊNCIA</td>\n",
       "      <td>0</td>\n",
       "      <td>0</td>\n",
       "      <td>0</td>\n",
       "      <td>0</td>\n",
       "      <td>1</td>\n",
       "      <td>0</td>\n",
       "      <td>Yes</td>\n",
       "      <td>-1</td>\n",
       "    </tr>\n",
       "    <tr>\n",
       "      <th>55226</th>\n",
       "      <td>F</td>\n",
       "      <td>2016-05-18</td>\n",
       "      <td>2016-05-17</td>\n",
       "      <td>19</td>\n",
       "      <td>SANTO ANTÔNIO</td>\n",
       "      <td>0</td>\n",
       "      <td>0</td>\n",
       "      <td>0</td>\n",
       "      <td>0</td>\n",
       "      <td>1</td>\n",
       "      <td>0</td>\n",
       "      <td>Yes</td>\n",
       "      <td>-1</td>\n",
       "    </tr>\n",
       "    <tr>\n",
       "      <th>64175</th>\n",
       "      <td>F</td>\n",
       "      <td>2016-05-05</td>\n",
       "      <td>2016-05-04</td>\n",
       "      <td>22</td>\n",
       "      <td>CONSOLAÇÃO</td>\n",
       "      <td>0</td>\n",
       "      <td>0</td>\n",
       "      <td>0</td>\n",
       "      <td>0</td>\n",
       "      <td>0</td>\n",
       "      <td>0</td>\n",
       "      <td>Yes</td>\n",
       "      <td>-1</td>\n",
       "    </tr>\n",
       "    <tr>\n",
       "      <th>71533</th>\n",
       "      <td>F</td>\n",
       "      <td>2016-05-11</td>\n",
       "      <td>2016-05-05</td>\n",
       "      <td>81</td>\n",
       "      <td>SANTO ANTÔNIO</td>\n",
       "      <td>0</td>\n",
       "      <td>0</td>\n",
       "      <td>0</td>\n",
       "      <td>0</td>\n",
       "      <td>0</td>\n",
       "      <td>0</td>\n",
       "      <td>Yes</td>\n",
       "      <td>-6</td>\n",
       "    </tr>\n",
       "    <tr>\n",
       "      <th>72362</th>\n",
       "      <td>M</td>\n",
       "      <td>2016-05-04</td>\n",
       "      <td>2016-05-03</td>\n",
       "      <td>7</td>\n",
       "      <td>TABUAZEIRO</td>\n",
       "      <td>0</td>\n",
       "      <td>0</td>\n",
       "      <td>0</td>\n",
       "      <td>0</td>\n",
       "      <td>0</td>\n",
       "      <td>0</td>\n",
       "      <td>Yes</td>\n",
       "      <td>-1</td>\n",
       "    </tr>\n",
       "  </tbody>\n",
       "</table>\n",
       "</div>"
      ],
      "text/plain": [
       "      Gender ScheduledDay AppointmentDay  Age  Neighbourhood  Scholarship  \\\n",
       "27033      M   2016-05-10     2016-05-09   38    RESISTÊNCIA            0   \n",
       "55226      F   2016-05-18     2016-05-17   19  SANTO ANTÔNIO            0   \n",
       "64175      F   2016-05-05     2016-05-04   22     CONSOLAÇÃO            0   \n",
       "71533      F   2016-05-11     2016-05-05   81  SANTO ANTÔNIO            0   \n",
       "72362      M   2016-05-04     2016-05-03    7     TABUAZEIRO            0   \n",
       "\n",
       "       Hypertension  Diabetes  Alcoholism  Handicap  SMS_received No_show  \\\n",
       "27033             0         0           0         1             0     Yes   \n",
       "55226             0         0           0         1             0     Yes   \n",
       "64175             0         0           0         0             0     Yes   \n",
       "71533             0         0           0         0             0     Yes   \n",
       "72362             0         0           0         0             0     Yes   \n",
       "\n",
       "       WaitDays  \n",
       "27033        -1  \n",
       "55226        -1  \n",
       "64175        -1  \n",
       "71533        -6  \n",
       "72362        -1  "
      ]
     },
     "execution_count": 93,
     "metadata": {},
     "output_type": "execute_result"
    }
   ],
   "source": [
    "waitdays_error = show.query('WaitDays < 0')\n",
    "waitdays_error"
   ]
  },
  {
   "cell_type": "markdown",
   "id": "a003f794",
   "metadata": {},
   "source": [
    "Now, let's drop these rows"
   ]
  },
  {
   "cell_type": "code",
   "execution_count": 94,
   "id": "5d2db129",
   "metadata": {},
   "outputs": [],
   "source": [
    "show.drop(show[show.WaitDays < 0].index, inplace=True)"
   ]
  },
  {
   "cell_type": "code",
   "execution_count": 95,
   "id": "13448f1d",
   "metadata": {},
   "outputs": [
    {
     "data": {
      "text/html": [
       "<div>\n",
       "<style scoped>\n",
       "    .dataframe tbody tr th:only-of-type {\n",
       "        vertical-align: middle;\n",
       "    }\n",
       "\n",
       "    .dataframe tbody tr th {\n",
       "        vertical-align: top;\n",
       "    }\n",
       "\n",
       "    .dataframe thead th {\n",
       "        text-align: right;\n",
       "    }\n",
       "</style>\n",
       "<table border=\"1\" class=\"dataframe\">\n",
       "  <thead>\n",
       "    <tr style=\"text-align: right;\">\n",
       "      <th></th>\n",
       "      <th>Gender</th>\n",
       "      <th>ScheduledDay</th>\n",
       "      <th>AppointmentDay</th>\n",
       "      <th>Age</th>\n",
       "      <th>Neighbourhood</th>\n",
       "      <th>Scholarship</th>\n",
       "      <th>Hypertension</th>\n",
       "      <th>Diabetes</th>\n",
       "      <th>Alcoholism</th>\n",
       "      <th>Handicap</th>\n",
       "      <th>SMS_received</th>\n",
       "      <th>No_show</th>\n",
       "      <th>WaitDays</th>\n",
       "    </tr>\n",
       "  </thead>\n",
       "  <tbody>\n",
       "  </tbody>\n",
       "</table>\n",
       "</div>"
      ],
      "text/plain": [
       "Empty DataFrame\n",
       "Columns: [Gender, ScheduledDay, AppointmentDay, Age, Neighbourhood, Scholarship, Hypertension, Diabetes, Alcoholism, Handicap, SMS_received, No_show, WaitDays]\n",
       "Index: []"
      ]
     },
     "execution_count": 95,
     "metadata": {},
     "output_type": "execute_result"
    }
   ],
   "source": [
    "#verify that they have been deleted\n",
    "\n",
    "show.query('WaitDays < 0')"
   ]
  },
  {
   "cell_type": "markdown",
   "id": "a720706d",
   "metadata": {},
   "source": [
    "A new column, 'Appointment_DOW' would also be created, this column would contain the days of the Week which the appointment were held. This would help in our analysis. "
   ]
  },
  {
   "cell_type": "code",
   "execution_count": 96,
   "id": "9692db5a",
   "metadata": {},
   "outputs": [],
   "source": [
    "#create a column for appointment day of the week \n",
    "\n",
    "show['Appointment_DOW'] = show['AppointmentDay'].dt.day_name()"
   ]
  },
  {
   "cell_type": "markdown",
   "id": "a29251fe",
   "metadata": {},
   "source": [
    "Now, let's check the minimum and maximum of all columns. This would help make our analysis easier"
   ]
  },
  {
   "cell_type": "code",
   "execution_count": 125,
   "id": "d106913f",
   "metadata": {},
   "outputs": [
    {
     "name": "stderr",
     "output_type": "stream",
     "text": [
      "C:\\Users\\User\\AppData\\Local\\Temp\\ipykernel_22892\\4120270418.py:1: FutureWarning: Dropping of nuisance columns in DataFrame reductions (with 'numeric_only=None') is deprecated; in a future version this will raise TypeError.  Select only valid columns before calling the reduction.\n",
      "  pd.DataFrame({\"min\":show.min(), \"max\":show.max()})\n"
     ]
    },
    {
     "data": {
      "text/html": [
       "<div>\n",
       "<style scoped>\n",
       "    .dataframe tbody tr th:only-of-type {\n",
       "        vertical-align: middle;\n",
       "    }\n",
       "\n",
       "    .dataframe tbody tr th {\n",
       "        vertical-align: top;\n",
       "    }\n",
       "\n",
       "    .dataframe thead th {\n",
       "        text-align: right;\n",
       "    }\n",
       "</style>\n",
       "<table border=\"1\" class=\"dataframe\">\n",
       "  <thead>\n",
       "    <tr style=\"text-align: right;\">\n",
       "      <th></th>\n",
       "      <th>min</th>\n",
       "      <th>max</th>\n",
       "    </tr>\n",
       "  </thead>\n",
       "  <tbody>\n",
       "    <tr>\n",
       "      <th>ScheduledDay</th>\n",
       "      <td>2015-11-10 00:00:00</td>\n",
       "      <td>2016-06-08 00:00:00</td>\n",
       "    </tr>\n",
       "    <tr>\n",
       "      <th>AppointmentDay</th>\n",
       "      <td>2016-04-29 00:00:00</td>\n",
       "      <td>2016-06-08 00:00:00</td>\n",
       "    </tr>\n",
       "    <tr>\n",
       "      <th>Age</th>\n",
       "      <td>0</td>\n",
       "      <td>115</td>\n",
       "    </tr>\n",
       "    <tr>\n",
       "      <th>Neighbourhood</th>\n",
       "      <td>AEROPORTO</td>\n",
       "      <td>VILA RUBIM</td>\n",
       "    </tr>\n",
       "    <tr>\n",
       "      <th>Scholarship</th>\n",
       "      <td>0</td>\n",
       "      <td>1</td>\n",
       "    </tr>\n",
       "    <tr>\n",
       "      <th>Hypertension</th>\n",
       "      <td>0</td>\n",
       "      <td>1</td>\n",
       "    </tr>\n",
       "    <tr>\n",
       "      <th>Diabetes</th>\n",
       "      <td>0</td>\n",
       "      <td>1</td>\n",
       "    </tr>\n",
       "    <tr>\n",
       "      <th>Alcoholism</th>\n",
       "      <td>0</td>\n",
       "      <td>1</td>\n",
       "    </tr>\n",
       "    <tr>\n",
       "      <th>Handicap</th>\n",
       "      <td>0</td>\n",
       "      <td>1</td>\n",
       "    </tr>\n",
       "    <tr>\n",
       "      <th>SMS_received</th>\n",
       "      <td>0</td>\n",
       "      <td>1</td>\n",
       "    </tr>\n",
       "    <tr>\n",
       "      <th>No_show</th>\n",
       "      <td>0</td>\n",
       "      <td>1</td>\n",
       "    </tr>\n",
       "    <tr>\n",
       "      <th>WaitDays</th>\n",
       "      <td>0</td>\n",
       "      <td>179</td>\n",
       "    </tr>\n",
       "    <tr>\n",
       "      <th>Appointment_DOW</th>\n",
       "      <td>Friday</td>\n",
       "      <td>Wednesday</td>\n",
       "    </tr>\n",
       "    <tr>\n",
       "      <th>WaitDays_bins</th>\n",
       "      <td>0-20</td>\n",
       "      <td>181-200</td>\n",
       "    </tr>\n",
       "    <tr>\n",
       "      <th>Age_bins</th>\n",
       "      <td>0 - 12</td>\n",
       "      <td>59 - 115</td>\n",
       "    </tr>\n",
       "  </tbody>\n",
       "</table>\n",
       "</div>"
      ],
      "text/plain": [
       "                                 min                  max\n",
       "ScheduledDay     2015-11-10 00:00:00  2016-06-08 00:00:00\n",
       "AppointmentDay   2016-04-29 00:00:00  2016-06-08 00:00:00\n",
       "Age                                0                  115\n",
       "Neighbourhood              AEROPORTO           VILA RUBIM\n",
       "Scholarship                        0                    1\n",
       "Hypertension                       0                    1\n",
       "Diabetes                           0                    1\n",
       "Alcoholism                         0                    1\n",
       "Handicap                           0                    1\n",
       "SMS_received                       0                    1\n",
       "No_show                            0                    1\n",
       "WaitDays                           0                  179\n",
       "Appointment_DOW               Friday            Wednesday\n",
       "WaitDays_bins                   0-20              181-200\n",
       "Age_bins                      0 - 12             59 - 115"
      ]
     },
     "execution_count": 125,
     "metadata": {},
     "output_type": "execute_result"
    }
   ],
   "source": [
    "pd.DataFrame({\"min\":show.min(), \"max\":show.max()})"
   ]
  },
  {
   "cell_type": "code",
   "execution_count": 98,
   "id": "6b931dd1",
   "metadata": {},
   "outputs": [
    {
     "data": {
      "text/html": [
       "<div>\n",
       "<style scoped>\n",
       "    .dataframe tbody tr th:only-of-type {\n",
       "        vertical-align: middle;\n",
       "    }\n",
       "\n",
       "    .dataframe tbody tr th {\n",
       "        vertical-align: top;\n",
       "    }\n",
       "\n",
       "    .dataframe thead th {\n",
       "        text-align: right;\n",
       "    }\n",
       "</style>\n",
       "<table border=\"1\" class=\"dataframe\">\n",
       "  <thead>\n",
       "    <tr style=\"text-align: right;\">\n",
       "      <th></th>\n",
       "      <th>Gender</th>\n",
       "      <th>ScheduledDay</th>\n",
       "      <th>AppointmentDay</th>\n",
       "      <th>Age</th>\n",
       "      <th>Neighbourhood</th>\n",
       "      <th>Scholarship</th>\n",
       "      <th>Hypertension</th>\n",
       "      <th>Diabetes</th>\n",
       "      <th>Alcoholism</th>\n",
       "      <th>Handicap</th>\n",
       "      <th>SMS_received</th>\n",
       "      <th>No_show</th>\n",
       "      <th>WaitDays</th>\n",
       "      <th>Appointment_DOW</th>\n",
       "    </tr>\n",
       "  </thead>\n",
       "  <tbody>\n",
       "    <tr>\n",
       "      <th>0</th>\n",
       "      <td>F</td>\n",
       "      <td>2016-04-29</td>\n",
       "      <td>2016-04-29</td>\n",
       "      <td>62</td>\n",
       "      <td>JARDIM DA PENHA</td>\n",
       "      <td>0</td>\n",
       "      <td>1</td>\n",
       "      <td>0</td>\n",
       "      <td>0</td>\n",
       "      <td>0</td>\n",
       "      <td>0</td>\n",
       "      <td>No</td>\n",
       "      <td>0</td>\n",
       "      <td>Friday</td>\n",
       "    </tr>\n",
       "    <tr>\n",
       "      <th>1</th>\n",
       "      <td>M</td>\n",
       "      <td>2016-04-29</td>\n",
       "      <td>2016-04-29</td>\n",
       "      <td>56</td>\n",
       "      <td>JARDIM DA PENHA</td>\n",
       "      <td>0</td>\n",
       "      <td>0</td>\n",
       "      <td>0</td>\n",
       "      <td>0</td>\n",
       "      <td>0</td>\n",
       "      <td>0</td>\n",
       "      <td>No</td>\n",
       "      <td>0</td>\n",
       "      <td>Friday</td>\n",
       "    </tr>\n",
       "    <tr>\n",
       "      <th>2</th>\n",
       "      <td>F</td>\n",
       "      <td>2016-04-29</td>\n",
       "      <td>2016-04-29</td>\n",
       "      <td>62</td>\n",
       "      <td>MATA DA PRAIA</td>\n",
       "      <td>0</td>\n",
       "      <td>0</td>\n",
       "      <td>0</td>\n",
       "      <td>0</td>\n",
       "      <td>0</td>\n",
       "      <td>0</td>\n",
       "      <td>No</td>\n",
       "      <td>0</td>\n",
       "      <td>Friday</td>\n",
       "    </tr>\n",
       "    <tr>\n",
       "      <th>3</th>\n",
       "      <td>F</td>\n",
       "      <td>2016-04-29</td>\n",
       "      <td>2016-04-29</td>\n",
       "      <td>8</td>\n",
       "      <td>PONTAL DE CAMBURI</td>\n",
       "      <td>0</td>\n",
       "      <td>0</td>\n",
       "      <td>0</td>\n",
       "      <td>0</td>\n",
       "      <td>0</td>\n",
       "      <td>0</td>\n",
       "      <td>No</td>\n",
       "      <td>0</td>\n",
       "      <td>Friday</td>\n",
       "    </tr>\n",
       "    <tr>\n",
       "      <th>4</th>\n",
       "      <td>F</td>\n",
       "      <td>2016-04-29</td>\n",
       "      <td>2016-04-29</td>\n",
       "      <td>56</td>\n",
       "      <td>JARDIM DA PENHA</td>\n",
       "      <td>0</td>\n",
       "      <td>1</td>\n",
       "      <td>1</td>\n",
       "      <td>0</td>\n",
       "      <td>0</td>\n",
       "      <td>0</td>\n",
       "      <td>No</td>\n",
       "      <td>0</td>\n",
       "      <td>Friday</td>\n",
       "    </tr>\n",
       "  </tbody>\n",
       "</table>\n",
       "</div>"
      ],
      "text/plain": [
       "  Gender ScheduledDay AppointmentDay  Age      Neighbourhood  Scholarship  \\\n",
       "0      F   2016-04-29     2016-04-29   62    JARDIM DA PENHA            0   \n",
       "1      M   2016-04-29     2016-04-29   56    JARDIM DA PENHA            0   \n",
       "2      F   2016-04-29     2016-04-29   62      MATA DA PRAIA            0   \n",
       "3      F   2016-04-29     2016-04-29    8  PONTAL DE CAMBURI            0   \n",
       "4      F   2016-04-29     2016-04-29   56    JARDIM DA PENHA            0   \n",
       "\n",
       "   Hypertension  Diabetes  Alcoholism  Handicap  SMS_received No_show  \\\n",
       "0             1         0           0         0             0      No   \n",
       "1             0         0           0         0             0      No   \n",
       "2             0         0           0         0             0      No   \n",
       "3             0         0           0         0             0      No   \n",
       "4             1         1           0         0             0      No   \n",
       "\n",
       "   WaitDays Appointment_DOW  \n",
       "0         0          Friday  \n",
       "1         0          Friday  \n",
       "2         0          Friday  \n",
       "3         0          Friday  \n",
       "4         0          Friday  "
      ]
     },
     "execution_count": 98,
     "metadata": {},
     "output_type": "execute_result"
    }
   ],
   "source": [
    "show.head()"
   ]
  },
  {
   "cell_type": "markdown",
   "id": "c72e30fc",
   "metadata": {},
   "source": [
    "Now the dataset looks pretty clean. It's time for the analysis and visualization :)"
   ]
  },
  {
   "cell_type": "markdown",
   "id": "704f65c6",
   "metadata": {},
   "source": [
    "### DATA ANALYSIS AND VISUALIZATION"
   ]
  },
  {
   "cell_type": "markdown",
   "id": "0db68aca",
   "metadata": {},
   "source": [
    "**Does gender have any impact on how patients show up?**"
   ]
  },
  {
   "cell_type": "markdown",
   "id": "6895c6f5",
   "metadata": {},
   "source": [
    "First, let's look at the percentage of male to female to avoid being biased in our analysis"
   ]
  },
  {
   "cell_type": "code",
   "execution_count": 99,
   "id": "f8bb1077",
   "metadata": {},
   "outputs": [],
   "source": [
    "female_size = show.groupby(['Gender']).size()[\"F\"]/(show.groupby(['Gender']).size()[\"F\"]+show.groupby(['Gender']).size()[\"M\"])\n",
    "male_size = show.groupby(['Gender']).size()[\"M\"]/(show.groupby(['Gender']).size()[\"F\"]+show.groupby(['Gender']).size()[\"M\"]) "
   ]
  },
  {
   "cell_type": "code",
   "execution_count": 100,
   "id": "76c4e5be",
   "metadata": {},
   "outputs": [
    {
     "name": "stdout",
     "output_type": "stream",
     "text": [
      "Percent of Male Patients` => 65.00%\n",
      "Percent of Female Patients` => 35.00%\n"
     ]
    }
   ],
   "source": [
    "print(\"Percent of Male Patients` => {:.2f}%\".format(female_size*100))\n",
    "print(\"Percent of Female Patients` => {:.2f}%\".format(male_size*100))"
   ]
  },
  {
   "cell_type": "markdown",
   "id": "6c58f58d",
   "metadata": {},
   "source": [
    "The number of females are a lot higher than that of males. So we have to take that into consideration during the analysis"
   ]
  },
  {
   "cell_type": "markdown",
   "id": "fbb6aae3",
   "metadata": {},
   "source": [
    "Now, let's see the ratio of Males and Females that showed up for their appointment to the ones that did not."
   ]
  },
  {
   "cell_type": "code",
   "execution_count": 101,
   "id": "165f1d2f",
   "metadata": {},
   "outputs": [],
   "source": [
    "#defining a function for all plots with tick labels \n",
    "def plotting(x, titlename):\n",
    "    gen = sns.countplot(x, hue = show.No_show, data = show)\n",
    "    gen.set_title(titlename)\n",
    "    gen.set_xticklabels(x_ticks_labels)\n",
    "    plt.show()\n",
    "    return gen"
   ]
  },
  {
   "cell_type": "code",
   "execution_count": 102,
   "id": "ddc89607",
   "metadata": {},
   "outputs": [
    {
     "name": "stderr",
     "output_type": "stream",
     "text": [
      "C:\\Users\\User\\anaconda3\\envs\\portfolio_projects\\lib\\site-packages\\seaborn\\_decorators.py:36: FutureWarning: Pass the following variable as a keyword arg: x. From version 0.12, the only valid positional argument will be `data`, and passing other arguments without an explicit keyword will result in an error or misinterpretation.\n",
      "  warnings.warn(\n"
     ]
    },
    {
     "data": {
      "image/png": "[encoded data removed]",
      "text/plain": [
       "<Figure size 432x288 with 1 Axes>"
      ]
     },
     "metadata": {
      "needs_background": "light"
     },
     "output_type": "display_data"
    }
   ],
   "source": [
    "#calling the function we defined earlier to see the ratio of the males and females that showed up\n",
    "\n",
    "plotting(show.Gender, \"Ratio of Males and Females that showed up/ didn't show up\")\n",
    "x_ticks_labels=['Female', 'Male']"
   ]
  },
  {
   "cell_type": "markdown",
   "id": "5a088e4b",
   "metadata": {},
   "source": [
    "From the visualization, the ratio of female that showed up compared to the total number of female isn't significantly different from the ratio of males that showed up compared to the total number of males. lets go a bit deeper in the Gender analysis "
   ]
  },
  {
   "cell_type": "markdown",
   "id": "adbcff22",
   "metadata": {},
   "source": [
    "Lets see the impact diabeties has on the male and female with respect to whether or not they show up"
   ]
  },
  {
   "cell_type": "markdown",
   "id": "8868159f",
   "metadata": {},
   "source": [
    "Before we can do this, we have to change the format of the No_show column "
   ]
  },
  {
   "cell_type": "code",
   "execution_count": 103,
   "id": "df630c49",
   "metadata": {},
   "outputs": [],
   "source": [
    "labels = {\"No\": 1, \"Yes\":0}\n",
    "show[\"No_show\"] = show[\"No_show\"].map(labels)\n",
    "\n",
    "# Now, lets convert it into integer\n",
    "show[\"No_show\"] = show[\"No_show\"].astype(int)"
   ]
  },
  {
   "cell_type": "code",
   "execution_count": 104,
   "id": "65fa8ab1",
   "metadata": {},
   "outputs": [
    {
     "data": {
      "text/html": [
       "<div>\n",
       "<style scoped>\n",
       "    .dataframe tbody tr th:only-of-type {\n",
       "        vertical-align: middle;\n",
       "    }\n",
       "\n",
       "    .dataframe tbody tr th {\n",
       "        vertical-align: top;\n",
       "    }\n",
       "\n",
       "    .dataframe thead th {\n",
       "        text-align: right;\n",
       "    }\n",
       "</style>\n",
       "<table border=\"1\" class=\"dataframe\">\n",
       "  <thead>\n",
       "    <tr style=\"text-align: right;\">\n",
       "      <th></th>\n",
       "      <th></th>\n",
       "      <th>No_show</th>\n",
       "    </tr>\n",
       "    <tr>\n",
       "      <th>Gender</th>\n",
       "      <th>Diabetes</th>\n",
       "      <th></th>\n",
       "    </tr>\n",
       "  </thead>\n",
       "  <tbody>\n",
       "    <tr>\n",
       "      <th rowspan=\"2\" valign=\"top\">F</th>\n",
       "      <th>0</th>\n",
       "      <td>79.50</td>\n",
       "    </tr>\n",
       "    <tr>\n",
       "      <th>1</th>\n",
       "      <td>81.86</td>\n",
       "    </tr>\n",
       "    <tr>\n",
       "      <th rowspan=\"2\" valign=\"top\">M</th>\n",
       "      <th>0</th>\n",
       "      <td>79.89</td>\n",
       "    </tr>\n",
       "    <tr>\n",
       "      <th>1</th>\n",
       "      <td>82.33</td>\n",
       "    </tr>\n",
       "  </tbody>\n",
       "</table>\n",
       "</div>"
      ],
      "text/plain": [
       "                 No_show\n",
       "Gender Diabetes         \n",
       "F      0           79.50\n",
       "       1           81.86\n",
       "M      0           79.89\n",
       "       1           82.33"
      ]
     },
     "execution_count": 104,
     "metadata": {},
     "output_type": "execute_result"
    }
   ],
   "source": [
    "gender_diab_impact = pd.pivot_table(data = show, index = [\"Gender\", \"Diabetes\"], values = \"No_show\")\n",
    "round(gender_diab_impact * 100, 2)"
   ]
  },
  {
   "cell_type": "markdown",
   "id": "551545d7",
   "metadata": {},
   "source": [
    "There's not much difference between Male and Female with respect to diabeties, let's check for alcoholism for both Genders"
   ]
  },
  {
   "cell_type": "markdown",
   "id": "7729cf82",
   "metadata": {},
   "source": [
    "**Does being alcoholic affect how male/female show up?**"
   ]
  },
  {
   "cell_type": "code",
   "execution_count": 105,
   "id": "08fe2574",
   "metadata": {},
   "outputs": [
    {
     "data": {
      "text/html": [
       "<div>\n",
       "<style scoped>\n",
       "    .dataframe tbody tr th:only-of-type {\n",
       "        vertical-align: middle;\n",
       "    }\n",
       "\n",
       "    .dataframe tbody tr th {\n",
       "        vertical-align: top;\n",
       "    }\n",
       "\n",
       "    .dataframe thead th {\n",
       "        text-align: right;\n",
       "    }\n",
       "</style>\n",
       "<table border=\"1\" class=\"dataframe\">\n",
       "  <thead>\n",
       "    <tr style=\"text-align: right;\">\n",
       "      <th></th>\n",
       "      <th></th>\n",
       "      <th>No_show</th>\n",
       "    </tr>\n",
       "    <tr>\n",
       "      <th>Gender</th>\n",
       "      <th>Alcoholism</th>\n",
       "      <th></th>\n",
       "    </tr>\n",
       "  </thead>\n",
       "  <tbody>\n",
       "    <tr>\n",
       "      <th rowspan=\"2\" valign=\"top\">F</th>\n",
       "      <th>0</th>\n",
       "      <td>79.77</td>\n",
       "    </tr>\n",
       "    <tr>\n",
       "      <th>1</th>\n",
       "      <td>74.82</td>\n",
       "    </tr>\n",
       "    <tr>\n",
       "      <th rowspan=\"2\" valign=\"top\">M</th>\n",
       "      <th>0</th>\n",
       "      <td>79.88</td>\n",
       "    </tr>\n",
       "    <tr>\n",
       "      <th>1</th>\n",
       "      <td>82.73</td>\n",
       "    </tr>\n",
       "  </tbody>\n",
       "</table>\n",
       "</div>"
      ],
      "text/plain": [
       "                   No_show\n",
       "Gender Alcoholism         \n",
       "F      0             79.77\n",
       "       1             74.82\n",
       "M      0             79.88\n",
       "       1             82.73"
      ]
     },
     "execution_count": 105,
     "metadata": {},
     "output_type": "execute_result"
    }
   ],
   "source": [
    "gender_alc_impact = pd.pivot_table(data = show, index = [\"Gender\", \"Alcoholism\"], values = \"No_show\")\n",
    "round(gender_alc_impact * 100, 2)"
   ]
  },
  {
   "cell_type": "markdown",
   "id": "696f11e8",
   "metadata": {},
   "source": [
    "From the table above, it can be observed that Females don't show up as much as males do when they have been diagnosed with Alcoholism."
   ]
  },
  {
   "cell_type": "markdown",
   "id": "e0f0902f",
   "metadata": {},
   "source": [
    "**Does being handicaped affect how male/female show up?**"
   ]
  },
  {
   "cell_type": "code",
   "execution_count": 106,
   "id": "e8596e6a",
   "metadata": {},
   "outputs": [
    {
     "data": {
      "text/html": [
       "<div>\n",
       "<style scoped>\n",
       "    .dataframe tbody tr th:only-of-type {\n",
       "        vertical-align: middle;\n",
       "    }\n",
       "\n",
       "    .dataframe tbody tr th {\n",
       "        vertical-align: top;\n",
       "    }\n",
       "\n",
       "    .dataframe thead th {\n",
       "        text-align: right;\n",
       "    }\n",
       "</style>\n",
       "<table border=\"1\" class=\"dataframe\">\n",
       "  <thead>\n",
       "    <tr style=\"text-align: right;\">\n",
       "      <th></th>\n",
       "      <th></th>\n",
       "      <th>No_show</th>\n",
       "    </tr>\n",
       "    <tr>\n",
       "      <th>Gender</th>\n",
       "      <th>Handicap</th>\n",
       "      <th></th>\n",
       "    </tr>\n",
       "  </thead>\n",
       "  <tbody>\n",
       "    <tr>\n",
       "      <th rowspan=\"2\" valign=\"top\">F</th>\n",
       "      <th>0</th>\n",
       "      <td>79.66</td>\n",
       "    </tr>\n",
       "    <tr>\n",
       "      <th>1</th>\n",
       "      <td>81.23</td>\n",
       "    </tr>\n",
       "    <tr>\n",
       "      <th rowspan=\"2\" valign=\"top\">M</th>\n",
       "      <th>0</th>\n",
       "      <td>79.97</td>\n",
       "    </tr>\n",
       "    <tr>\n",
       "      <th>1</th>\n",
       "      <td>82.84</td>\n",
       "    </tr>\n",
       "  </tbody>\n",
       "</table>\n",
       "</div>"
      ],
      "text/plain": [
       "                 No_show\n",
       "Gender Handicap         \n",
       "F      0           79.66\n",
       "       1           81.23\n",
       "M      0           79.97\n",
       "       1           82.84"
      ]
     },
     "execution_count": 106,
     "metadata": {},
     "output_type": "execute_result"
    }
   ],
   "source": [
    "gender_hand_impact = pd.pivot_table(data = show, index = [\"Gender\", \"Handicap\"], values = \"No_show\")\n",
    "round(gender_hand_impact * 100, 2)"
   ]
  },
  {
   "cell_type": "markdown",
   "id": "936d49ca",
   "metadata": {},
   "source": [
    "No significant difference for beng handicaped with respect to Gender"
   ]
  },
  {
   "cell_type": "markdown",
   "id": "6cacb2a1",
   "metadata": {},
   "source": [
    "**Does recieving SMS affect how male/female show up?**"
   ]
  },
  {
   "cell_type": "code",
   "execution_count": 107,
   "id": "0638732f",
   "metadata": {},
   "outputs": [
    {
     "data": {
      "text/html": [
       "<div>\n",
       "<style scoped>\n",
       "    .dataframe tbody tr th:only-of-type {\n",
       "        vertical-align: middle;\n",
       "    }\n",
       "\n",
       "    .dataframe tbody tr th {\n",
       "        vertical-align: top;\n",
       "    }\n",
       "\n",
       "    .dataframe thead th {\n",
       "        text-align: right;\n",
       "    }\n",
       "</style>\n",
       "<table border=\"1\" class=\"dataframe\">\n",
       "  <thead>\n",
       "    <tr style=\"text-align: right;\">\n",
       "      <th></th>\n",
       "      <th></th>\n",
       "      <th>No_show</th>\n",
       "    </tr>\n",
       "    <tr>\n",
       "      <th>Gender</th>\n",
       "      <th>SMS_received</th>\n",
       "      <th></th>\n",
       "    </tr>\n",
       "  </thead>\n",
       "  <tbody>\n",
       "    <tr>\n",
       "      <th rowspan=\"2\" valign=\"top\">F</th>\n",
       "      <th>0</th>\n",
       "      <td>83.48</td>\n",
       "    </tr>\n",
       "    <tr>\n",
       "      <th>1</th>\n",
       "      <td>72.23</td>\n",
       "    </tr>\n",
       "    <tr>\n",
       "      <th rowspan=\"2\" valign=\"top\">M</th>\n",
       "      <th>0</th>\n",
       "      <td>83.00</td>\n",
       "    </tr>\n",
       "    <tr>\n",
       "      <th>1</th>\n",
       "      <td>72.84</td>\n",
       "    </tr>\n",
       "  </tbody>\n",
       "</table>\n",
       "</div>"
      ],
      "text/plain": [
       "                     No_show\n",
       "Gender SMS_received         \n",
       "F      0               83.48\n",
       "       1               72.23\n",
       "M      0               83.00\n",
       "       1               72.84"
      ]
     },
     "execution_count": 107,
     "metadata": {},
     "output_type": "execute_result"
    }
   ],
   "source": [
    "gender_SMS_impact = pd.pivot_table(data = show, index = [\"Gender\", \"SMS_received\"], values = \"No_show\")\n",
    "round(gender_SMS_impact * 100, 2)"
   ]
  },
  {
   "cell_type": "markdown",
   "id": "074a1539",
   "metadata": {},
   "source": [
    "No much difference between Male and Female based on recieving SMS"
   ]
  },
  {
   "cell_type": "markdown",
   "id": "5afdddf1",
   "metadata": {},
   "source": [
    "**Does the increase in number of wait days affect how patients show up?**"
   ]
  },
  {
   "cell_type": "markdown",
   "id": "1ad7b884",
   "metadata": {},
   "source": [
    "From the Data Cleaning section, we can see that the minimum number of waitdays is 0 and the maximum number of waitdays is 197. Now, lets create bins that would group it into 20s"
   ]
  },
  {
   "cell_type": "code",
   "execution_count": 108,
   "id": "fb5965fa",
   "metadata": {},
   "outputs": [],
   "source": [
    "show[\"WaitDays_bins\"] = pd.cut(show['WaitDays'], 10, labels = [\"0-20\", \"21-40\", \"41-60\", \"61-80\", \"81-100\", \"101-120\", \"121-140\", \"141-160\", \"161-180\", \"181-200\"])"
   ]
  },
  {
   "cell_type": "code",
   "execution_count": 109,
   "id": "1f844ba6",
   "metadata": {},
   "outputs": [
    {
     "data": {
      "text/html": [
       "<div>\n",
       "<style scoped>\n",
       "    .dataframe tbody tr th:only-of-type {\n",
       "        vertical-align: middle;\n",
       "    }\n",
       "\n",
       "    .dataframe tbody tr th {\n",
       "        vertical-align: top;\n",
       "    }\n",
       "\n",
       "    .dataframe thead th {\n",
       "        text-align: right;\n",
       "    }\n",
       "</style>\n",
       "<table border=\"1\" class=\"dataframe\">\n",
       "  <thead>\n",
       "    <tr style=\"text-align: right;\">\n",
       "      <th></th>\n",
       "      <th>Gender</th>\n",
       "      <th>ScheduledDay</th>\n",
       "      <th>AppointmentDay</th>\n",
       "      <th>Age</th>\n",
       "      <th>Neighbourhood</th>\n",
       "      <th>Scholarship</th>\n",
       "      <th>Hypertension</th>\n",
       "      <th>Diabetes</th>\n",
       "      <th>Alcoholism</th>\n",
       "      <th>Handicap</th>\n",
       "      <th>SMS_received</th>\n",
       "      <th>No_show</th>\n",
       "      <th>WaitDays</th>\n",
       "      <th>Appointment_DOW</th>\n",
       "      <th>WaitDays_bins</th>\n",
       "    </tr>\n",
       "  </thead>\n",
       "  <tbody>\n",
       "    <tr>\n",
       "      <th>0</th>\n",
       "      <td>F</td>\n",
       "      <td>2016-04-29</td>\n",
       "      <td>2016-04-29</td>\n",
       "      <td>62</td>\n",
       "      <td>JARDIM DA PENHA</td>\n",
       "      <td>0</td>\n",
       "      <td>1</td>\n",
       "      <td>0</td>\n",
       "      <td>0</td>\n",
       "      <td>0</td>\n",
       "      <td>0</td>\n",
       "      <td>1</td>\n",
       "      <td>0</td>\n",
       "      <td>Friday</td>\n",
       "      <td>0-20</td>\n",
       "    </tr>\n",
       "    <tr>\n",
       "      <th>1</th>\n",
       "      <td>M</td>\n",
       "      <td>2016-04-29</td>\n",
       "      <td>2016-04-29</td>\n",
       "      <td>56</td>\n",
       "      <td>JARDIM DA PENHA</td>\n",
       "      <td>0</td>\n",
       "      <td>0</td>\n",
       "      <td>0</td>\n",
       "      <td>0</td>\n",
       "      <td>0</td>\n",
       "      <td>0</td>\n",
       "      <td>1</td>\n",
       "      <td>0</td>\n",
       "      <td>Friday</td>\n",
       "      <td>0-20</td>\n",
       "    </tr>\n",
       "    <tr>\n",
       "      <th>2</th>\n",
       "      <td>F</td>\n",
       "      <td>2016-04-29</td>\n",
       "      <td>2016-04-29</td>\n",
       "      <td>62</td>\n",
       "      <td>MATA DA PRAIA</td>\n",
       "      <td>0</td>\n",
       "      <td>0</td>\n",
       "      <td>0</td>\n",
       "      <td>0</td>\n",
       "      <td>0</td>\n",
       "      <td>0</td>\n",
       "      <td>1</td>\n",
       "      <td>0</td>\n",
       "      <td>Friday</td>\n",
       "      <td>0-20</td>\n",
       "    </tr>\n",
       "  </tbody>\n",
       "</table>\n",
       "</div>"
      ],
      "text/plain": [
       "  Gender ScheduledDay AppointmentDay  Age    Neighbourhood  Scholarship  \\\n",
       "0      F   2016-04-29     2016-04-29   62  JARDIM DA PENHA            0   \n",
       "1      M   2016-04-29     2016-04-29   56  JARDIM DA PENHA            0   \n",
       "2      F   2016-04-29     2016-04-29   62    MATA DA PRAIA            0   \n",
       "\n",
       "   Hypertension  Diabetes  Alcoholism  Handicap  SMS_received  No_show  \\\n",
       "0             1         0           0         0             0        1   \n",
       "1             0         0           0         0             0        1   \n",
       "2             0         0           0         0             0        1   \n",
       "\n",
       "   WaitDays Appointment_DOW WaitDays_bins  \n",
       "0         0          Friday          0-20  \n",
       "1         0          Friday          0-20  \n",
       "2         0          Friday          0-20  "
      ]
     },
     "execution_count": 109,
     "metadata": {},
     "output_type": "execute_result"
    }
   ],
   "source": [
    "show.head(3)"
   ]
  },
  {
   "cell_type": "code",
   "execution_count": 110,
   "id": "ba8e2a2b",
   "metadata": {},
   "outputs": [],
   "source": [
    "#function for plots without ticks \n",
    "\n",
    "def plotting_2(x, titlename):\n",
    "    gen_2 = sns.countplot(x, hue = show.No_show, data = show)\n",
    "    gen_2.set_title(titlename)\n",
    "    plt.show()\n",
    "    return gen_2"
   ]
  },
  {
   "cell_type": "code",
   "execution_count": 111,
   "id": "ef3498cc",
   "metadata": {},
   "outputs": [
    {
     "name": "stderr",
     "output_type": "stream",
     "text": [
      "C:\\Users\\User\\anaconda3\\envs\\portfolio_projects\\lib\\site-packages\\seaborn\\_decorators.py:36: FutureWarning: Pass the following variable as a keyword arg: x. From version 0.12, the only valid positional argument will be `data`, and passing other arguments without an explicit keyword will result in an error or misinterpretation.\n",
      "  warnings.warn(\n"
     ]
    },
    {
     "data": {
      "image/png": "[encoded data removed]",
      "text/plain": [
       "<Figure size 432x288 with 1 Axes>"
      ]
     },
     "metadata": {
      "needs_background": "light"
     },
     "output_type": "display_data"
    }
   ],
   "source": [
    "#plot for the wait days bins\n",
    "\n",
    "plotting_2(show.WaitDays_bins, \"WAIT DAYS\");"
   ]
  },
  {
   "cell_type": "markdown",
   "id": "b5dc1b2b",
   "metadata": {},
   "source": [
    "There's no significant difference between the number of people that showed up and the number of people that didn't with respect to the number of days they waited before their apppointments."
   ]
  },
  {
   "cell_type": "markdown",
   "id": "8ecb950c",
   "metadata": {},
   "source": [
    "**Does Age affect how a patient shows up?**"
   ]
  },
  {
   "cell_type": "code",
   "execution_count": 112,
   "id": "e190476e",
   "metadata": {},
   "outputs": [],
   "source": [
    "#create Age bins for this analysis\n",
    "\n",
    "show[\"Age_bins\"] = pd.qcut(show.Age, 5, labels = [\"0 - 12\", \"13 - 29\", \"30 - 44\", \"45 - 58\", \"59 - 115\"])"
   ]
  },
  {
   "cell_type": "code",
   "execution_count": 113,
   "id": "abf151b5",
   "metadata": {},
   "outputs": [
    {
     "data": {
      "text/html": [
       "<div>\n",
       "<style scoped>\n",
       "    .dataframe tbody tr th:only-of-type {\n",
       "        vertical-align: middle;\n",
       "    }\n",
       "\n",
       "    .dataframe tbody tr th {\n",
       "        vertical-align: top;\n",
       "    }\n",
       "\n",
       "    .dataframe thead th {\n",
       "        text-align: right;\n",
       "    }\n",
       "</style>\n",
       "<table border=\"1\" class=\"dataframe\">\n",
       "  <thead>\n",
       "    <tr style=\"text-align: right;\">\n",
       "      <th></th>\n",
       "      <th>Gender</th>\n",
       "      <th>ScheduledDay</th>\n",
       "      <th>AppointmentDay</th>\n",
       "      <th>Age</th>\n",
       "      <th>Neighbourhood</th>\n",
       "      <th>Scholarship</th>\n",
       "      <th>Hypertension</th>\n",
       "      <th>Diabetes</th>\n",
       "      <th>Alcoholism</th>\n",
       "      <th>Handicap</th>\n",
       "      <th>SMS_received</th>\n",
       "      <th>No_show</th>\n",
       "      <th>WaitDays</th>\n",
       "      <th>Appointment_DOW</th>\n",
       "      <th>WaitDays_bins</th>\n",
       "      <th>Age_bins</th>\n",
       "    </tr>\n",
       "  </thead>\n",
       "  <tbody>\n",
       "    <tr>\n",
       "      <th>0</th>\n",
       "      <td>F</td>\n",
       "      <td>2016-04-29</td>\n",
       "      <td>2016-04-29</td>\n",
       "      <td>62</td>\n",
       "      <td>JARDIM DA PENHA</td>\n",
       "      <td>0</td>\n",
       "      <td>1</td>\n",
       "      <td>0</td>\n",
       "      <td>0</td>\n",
       "      <td>0</td>\n",
       "      <td>0</td>\n",
       "      <td>1</td>\n",
       "      <td>0</td>\n",
       "      <td>Friday</td>\n",
       "      <td>0-20</td>\n",
       "      <td>59 - 115</td>\n",
       "    </tr>\n",
       "    <tr>\n",
       "      <th>1</th>\n",
       "      <td>M</td>\n",
       "      <td>2016-04-29</td>\n",
       "      <td>2016-04-29</td>\n",
       "      <td>56</td>\n",
       "      <td>JARDIM DA PENHA</td>\n",
       "      <td>0</td>\n",
       "      <td>0</td>\n",
       "      <td>0</td>\n",
       "      <td>0</td>\n",
       "      <td>0</td>\n",
       "      <td>0</td>\n",
       "      <td>1</td>\n",
       "      <td>0</td>\n",
       "      <td>Friday</td>\n",
       "      <td>0-20</td>\n",
       "      <td>45 - 58</td>\n",
       "    </tr>\n",
       "    <tr>\n",
       "      <th>2</th>\n",
       "      <td>F</td>\n",
       "      <td>2016-04-29</td>\n",
       "      <td>2016-04-29</td>\n",
       "      <td>62</td>\n",
       "      <td>MATA DA PRAIA</td>\n",
       "      <td>0</td>\n",
       "      <td>0</td>\n",
       "      <td>0</td>\n",
       "      <td>0</td>\n",
       "      <td>0</td>\n",
       "      <td>0</td>\n",
       "      <td>1</td>\n",
       "      <td>0</td>\n",
       "      <td>Friday</td>\n",
       "      <td>0-20</td>\n",
       "      <td>59 - 115</td>\n",
       "    </tr>\n",
       "  </tbody>\n",
       "</table>\n",
       "</div>"
      ],
      "text/plain": [
       "  Gender ScheduledDay AppointmentDay  Age    Neighbourhood  Scholarship  \\\n",
       "0      F   2016-04-29     2016-04-29   62  JARDIM DA PENHA            0   \n",
       "1      M   2016-04-29     2016-04-29   56  JARDIM DA PENHA            0   \n",
       "2      F   2016-04-29     2016-04-29   62    MATA DA PRAIA            0   \n",
       "\n",
       "   Hypertension  Diabetes  Alcoholism  Handicap  SMS_received  No_show  \\\n",
       "0             1         0           0         0             0        1   \n",
       "1             0         0           0         0             0        1   \n",
       "2             0         0           0         0             0        1   \n",
       "\n",
       "   WaitDays Appointment_DOW WaitDays_bins  Age_bins  \n",
       "0         0          Friday          0-20  59 - 115  \n",
       "1         0          Friday          0-20   45 - 58  \n",
       "2         0          Friday          0-20  59 - 115  "
      ]
     },
     "execution_count": 113,
     "metadata": {},
     "output_type": "execute_result"
    }
   ],
   "source": [
    "show.head(3)"
   ]
  },
  {
   "cell_type": "markdown",
   "id": "317347c3",
   "metadata": {},
   "source": [
    "Now, lets see how different age groups showed up for their appointment"
   ]
  },
  {
   "cell_type": "code",
   "execution_count": 114,
   "id": "02f49653",
   "metadata": {},
   "outputs": [
    {
     "name": "stderr",
     "output_type": "stream",
     "text": [
      "C:\\Users\\User\\anaconda3\\envs\\portfolio_projects\\lib\\site-packages\\seaborn\\_decorators.py:36: FutureWarning: Pass the following variable as a keyword arg: x. From version 0.12, the only valid positional argument will be `data`, and passing other arguments without an explicit keyword will result in an error or misinterpretation.\n",
      "  warnings.warn(\n"
     ]
    },
    {
     "data": {
      "image/png": "[encoded data removed]",
      "text/plain": [
       "<Figure size 432x288 with 1 Axes>"
      ]
     },
     "metadata": {
      "needs_background": "light"
     },
     "output_type": "display_data"
    }
   ],
   "source": [
    "#we'll do this by using the function we defined earlier\n",
    "\n",
    "plotting_2(show.Age_bins, \"AGE GROUPS\");"
   ]
  },
  {
   "cell_type": "markdown",
   "id": "03e1a8e7",
   "metadata": {},
   "source": [
    "From this, we can see that more people within the ages of 13-29 miss their appointments as compared to the other age groups `"
   ]
  },
  {
   "cell_type": "markdown",
   "id": "1c3258d9",
   "metadata": {},
   "source": [
    "**Does being on scholarship increase the chances of a patient showing up?**"
   ]
  },
  {
   "cell_type": "code",
   "execution_count": 115,
   "id": "b4b1ada0",
   "metadata": {},
   "outputs": [
    {
     "name": "stderr",
     "output_type": "stream",
     "text": [
      "C:\\Users\\User\\anaconda3\\envs\\portfolio_projects\\lib\\site-packages\\seaborn\\_decorators.py:36: FutureWarning: Pass the following variable as a keyword arg: x. From version 0.12, the only valid positional argument will be `data`, and passing other arguments without an explicit keyword will result in an error or misinterpretation.\n",
      "  warnings.warn(\n"
     ]
    },
    {
     "data": {
      "image/png": "[encoded data removed]",
      "text/plain": [
       "<Figure size 432x288 with 1 Axes>"
      ]
     },
     "metadata": {
      "needs_background": "light"
     },
     "output_type": "display_data"
    }
   ],
   "source": [
    "#we'll plot this using the function we defined earlier\n",
    "\n",
    "plotting(show.Scholarship, \"SCHOLARSHIP\")\n",
    "x_ticks_labels=['No Scholarship', 'Scholarship']"
   ]
  },
  {
   "cell_type": "markdown",
   "id": "6f69f9da",
   "metadata": {},
   "source": [
    "Now, lets see how different type of patients react to scholarships"
   ]
  },
  {
   "cell_type": "markdown",
   "id": "83ce479d",
   "metadata": {},
   "source": [
    "**Do hypertensive patients show up more when they're on scholarship?**"
   ]
  },
  {
   "cell_type": "code",
   "execution_count": 116,
   "id": "c2aa777d",
   "metadata": {},
   "outputs": [
    {
     "data": {
      "text/html": [
       "<div>\n",
       "<style scoped>\n",
       "    .dataframe tbody tr th:only-of-type {\n",
       "        vertical-align: middle;\n",
       "    }\n",
       "\n",
       "    .dataframe tbody tr th {\n",
       "        vertical-align: top;\n",
       "    }\n",
       "\n",
       "    .dataframe thead th {\n",
       "        text-align: right;\n",
       "    }\n",
       "</style>\n",
       "<table border=\"1\" class=\"dataframe\">\n",
       "  <thead>\n",
       "    <tr style=\"text-align: right;\">\n",
       "      <th></th>\n",
       "      <th></th>\n",
       "      <th>No_show</th>\n",
       "    </tr>\n",
       "    <tr>\n",
       "      <th>Scholarship</th>\n",
       "      <th>Hypertension</th>\n",
       "      <th></th>\n",
       "    </tr>\n",
       "  </thead>\n",
       "  <tbody>\n",
       "    <tr>\n",
       "      <th rowspan=\"2\" valign=\"top\">0</th>\n",
       "      <th>0</th>\n",
       "      <td>79.51</td>\n",
       "    </tr>\n",
       "    <tr>\n",
       "      <th>1</th>\n",
       "      <td>82.93</td>\n",
       "    </tr>\n",
       "    <tr>\n",
       "      <th rowspan=\"2\" valign=\"top\">1</th>\n",
       "      <th>0</th>\n",
       "      <td>75.43</td>\n",
       "    </tr>\n",
       "    <tr>\n",
       "      <th>1</th>\n",
       "      <td>80.25</td>\n",
       "    </tr>\n",
       "  </tbody>\n",
       "</table>\n",
       "</div>"
      ],
      "text/plain": [
       "                          No_show\n",
       "Scholarship Hypertension         \n",
       "0           0               79.51\n",
       "            1               82.93\n",
       "1           0               75.43\n",
       "            1               80.25"
      ]
     },
     "execution_count": 116,
     "metadata": {},
     "output_type": "execute_result"
    }
   ],
   "source": [
    "# Hypertensive patients\n",
    "\n",
    "sch_hyper = pd.pivot_table(data = show, index = [\"Scholarship\", \"Hypertension\"], values = \"No_show\")\n",
    "round(sch_hyper * 100, 2)"
   ]
  },
  {
   "cell_type": "markdown",
   "id": "66a0d601",
   "metadata": {},
   "source": [
    "Scholarships does not really have an impact on how hypertensive patients keep to appointments"
   ]
  },
  {
   "cell_type": "markdown",
   "id": "9294d5fc",
   "metadata": {},
   "source": [
    "**Do diabetic patients show up more when they're on scholarship?**"
   ]
  },
  {
   "cell_type": "code",
   "execution_count": 117,
   "id": "d21c440b",
   "metadata": {},
   "outputs": [
    {
     "data": {
      "text/html": [
       "<div>\n",
       "<style scoped>\n",
       "    .dataframe tbody tr th:only-of-type {\n",
       "        vertical-align: middle;\n",
       "    }\n",
       "\n",
       "    .dataframe tbody tr th {\n",
       "        vertical-align: top;\n",
       "    }\n",
       "\n",
       "    .dataframe thead th {\n",
       "        text-align: right;\n",
       "    }\n",
       "</style>\n",
       "<table border=\"1\" class=\"dataframe\">\n",
       "  <thead>\n",
       "    <tr style=\"text-align: right;\">\n",
       "      <th></th>\n",
       "      <th></th>\n",
       "      <th>No_show</th>\n",
       "    </tr>\n",
       "    <tr>\n",
       "      <th>Scholarship</th>\n",
       "      <th>Diabetes</th>\n",
       "      <th></th>\n",
       "    </tr>\n",
       "  </thead>\n",
       "  <tbody>\n",
       "    <tr>\n",
       "      <th rowspan=\"2\" valign=\"top\">0</th>\n",
       "      <th>0</th>\n",
       "      <td>80.03</td>\n",
       "    </tr>\n",
       "    <tr>\n",
       "      <th>1</th>\n",
       "      <td>82.28</td>\n",
       "    </tr>\n",
       "    <tr>\n",
       "      <th rowspan=\"2\" valign=\"top\">1</th>\n",
       "      <th>0</th>\n",
       "      <td>76.15</td>\n",
       "    </tr>\n",
       "    <tr>\n",
       "      <th>1</th>\n",
       "      <td>78.38</td>\n",
       "    </tr>\n",
       "  </tbody>\n",
       "</table>\n",
       "</div>"
      ],
      "text/plain": [
       "                      No_show\n",
       "Scholarship Diabetes         \n",
       "0           0           80.03\n",
       "            1           82.28\n",
       "1           0           76.15\n",
       "            1           78.38"
      ]
     },
     "execution_count": 117,
     "metadata": {},
     "output_type": "execute_result"
    }
   ],
   "source": [
    "# Diabetic patients\n",
    "\n",
    "sch_dia = pd.pivot_table(data = show, index = [\"Scholarship\", \"Diabetes\"], values = \"No_show\")\n",
    "round(sch_dia * 100, 2)"
   ]
  },
  {
   "cell_type": "markdown",
   "id": "63e60b9c",
   "metadata": {},
   "source": [
    "More diabetic patients keep to their appointments when they are not on Scholarships (the difference isn't too much though)"
   ]
  },
  {
   "cell_type": "markdown",
   "id": "7184a574",
   "metadata": {},
   "source": [
    "**Do alcoholic patients show up more when they're on scholarship?**"
   ]
  },
  {
   "cell_type": "code",
   "execution_count": 118,
   "id": "a134842c",
   "metadata": {},
   "outputs": [
    {
     "data": {
      "text/html": [
       "<div>\n",
       "<style scoped>\n",
       "    .dataframe tbody tr th:only-of-type {\n",
       "        vertical-align: middle;\n",
       "    }\n",
       "\n",
       "    .dataframe tbody tr th {\n",
       "        vertical-align: top;\n",
       "    }\n",
       "\n",
       "    .dataframe thead th {\n",
       "        text-align: right;\n",
       "    }\n",
       "</style>\n",
       "<table border=\"1\" class=\"dataframe\">\n",
       "  <thead>\n",
       "    <tr style=\"text-align: right;\">\n",
       "      <th></th>\n",
       "      <th></th>\n",
       "      <th>No_show</th>\n",
       "    </tr>\n",
       "    <tr>\n",
       "      <th>Scholarship</th>\n",
       "      <th>Alcoholism</th>\n",
       "      <th></th>\n",
       "    </tr>\n",
       "  </thead>\n",
       "  <tbody>\n",
       "    <tr>\n",
       "      <th rowspan=\"2\" valign=\"top\">0</th>\n",
       "      <th>0</th>\n",
       "      <td>80.16</td>\n",
       "    </tr>\n",
       "    <tr>\n",
       "      <th>1</th>\n",
       "      <td>81.36</td>\n",
       "    </tr>\n",
       "    <tr>\n",
       "      <th rowspan=\"2\" valign=\"top\">1</th>\n",
       "      <th>0</th>\n",
       "      <td>76.49</td>\n",
       "    </tr>\n",
       "    <tr>\n",
       "      <th>1</th>\n",
       "      <td>71.78</td>\n",
       "    </tr>\n",
       "  </tbody>\n",
       "</table>\n",
       "</div>"
      ],
      "text/plain": [
       "                        No_show\n",
       "Scholarship Alcoholism         \n",
       "0           0             80.16\n",
       "            1             81.36\n",
       "1           0             76.49\n",
       "            1             71.78"
      ]
     },
     "execution_count": 118,
     "metadata": {},
     "output_type": "execute_result"
    }
   ],
   "source": [
    "# Alcoholic patients \n",
    "\n",
    "sch_alc = pd.pivot_table(data = show, index = [\"Scholarship\", \"Alcoholism\"], values = \"No_show\")\n",
    "round(sch_alc * 100, 2)"
   ]
  },
  {
   "cell_type": "markdown",
   "id": "077a58c5",
   "metadata": {},
   "source": [
    "Alcoholic patients on scholarship do not show up as much as the the alcoholic patients that are not on scholarship"
   ]
  },
  {
   "cell_type": "markdown",
   "id": "81d94024",
   "metadata": {},
   "source": [
    "**Do handicaped patients show up more when they're on scholarship?**"
   ]
  },
  {
   "cell_type": "code",
   "execution_count": 119,
   "id": "90846b1e",
   "metadata": {},
   "outputs": [
    {
     "data": {
      "text/html": [
       "<div>\n",
       "<style scoped>\n",
       "    .dataframe tbody tr th:only-of-type {\n",
       "        vertical-align: middle;\n",
       "    }\n",
       "\n",
       "    .dataframe tbody tr th {\n",
       "        vertical-align: top;\n",
       "    }\n",
       "\n",
       "    .dataframe thead th {\n",
       "        text-align: right;\n",
       "    }\n",
       "</style>\n",
       "<table border=\"1\" class=\"dataframe\">\n",
       "  <thead>\n",
       "    <tr style=\"text-align: right;\">\n",
       "      <th></th>\n",
       "      <th></th>\n",
       "      <th>No_show</th>\n",
       "    </tr>\n",
       "    <tr>\n",
       "      <th>Scholarship</th>\n",
       "      <th>Handicap</th>\n",
       "      <th></th>\n",
       "    </tr>\n",
       "  </thead>\n",
       "  <tbody>\n",
       "    <tr>\n",
       "      <th rowspan=\"2\" valign=\"top\">0</th>\n",
       "      <th>0</th>\n",
       "      <td>80.16</td>\n",
       "    </tr>\n",
       "    <tr>\n",
       "      <th>1</th>\n",
       "      <td>81.71</td>\n",
       "    </tr>\n",
       "    <tr>\n",
       "      <th rowspan=\"2\" valign=\"top\">1</th>\n",
       "      <th>0</th>\n",
       "      <td>76.13</td>\n",
       "    </tr>\n",
       "    <tr>\n",
       "      <th>1</th>\n",
       "      <td>84.27</td>\n",
       "    </tr>\n",
       "  </tbody>\n",
       "</table>\n",
       "</div>"
      ],
      "text/plain": [
       "                      No_show\n",
       "Scholarship Handicap         \n",
       "0           0           80.16\n",
       "            1           81.71\n",
       "1           0           76.13\n",
       "            1           84.27"
      ]
     },
     "execution_count": 119,
     "metadata": {},
     "output_type": "execute_result"
    }
   ],
   "source": [
    "# Handicaped patients\n",
    "\n",
    "sch_hand = pd.pivot_table(data = show, index = [\"Scholarship\", \"Handicap\"], values = \"No_show\")\n",
    "round(sch_hand * 100, 2)"
   ]
  },
  {
   "cell_type": "markdown",
   "id": "f04f8b3e",
   "metadata": {},
   "source": [
    "Handicapped patients on scholarship tend to keep to appointment more than those that are not on scholarship "
   ]
  },
  {
   "cell_type": "markdown",
   "id": "b9a5ca02",
   "metadata": {},
   "source": [
    "Now, lets see the Neighbourhoods that keep to appointment more "
   ]
  },
  {
   "cell_type": "code",
   "execution_count": 120,
   "id": "653f2f72",
   "metadata": {},
   "outputs": [
    {
     "data": {
      "text/html": [
       "<div>\n",
       "<style scoped>\n",
       "    .dataframe tbody tr th:only-of-type {\n",
       "        vertical-align: middle;\n",
       "    }\n",
       "\n",
       "    .dataframe tbody tr th {\n",
       "        vertical-align: top;\n",
       "    }\n",
       "\n",
       "    .dataframe thead th {\n",
       "        text-align: right;\n",
       "    }\n",
       "</style>\n",
       "<table border=\"1\" class=\"dataframe\">\n",
       "  <thead>\n",
       "    <tr style=\"text-align: right;\">\n",
       "      <th></th>\n",
       "      <th>No_show</th>\n",
       "    </tr>\n",
       "    <tr>\n",
       "      <th>Neighbourhood</th>\n",
       "      <th></th>\n",
       "    </tr>\n",
       "  </thead>\n",
       "  <tbody>\n",
       "    <tr>\n",
       "      <th>PARQUE INDUSTRIAL</th>\n",
       "      <td>100.00</td>\n",
       "    </tr>\n",
       "    <tr>\n",
       "      <th>ILHA DO BOI</th>\n",
       "      <td>91.43</td>\n",
       "    </tr>\n",
       "    <tr>\n",
       "      <th>AEROPORTO</th>\n",
       "      <td>87.50</td>\n",
       "    </tr>\n",
       "  </tbody>\n",
       "</table>\n",
       "</div>"
      ],
      "text/plain": [
       "                   No_show\n",
       "Neighbourhood             \n",
       "PARQUE INDUSTRIAL   100.00\n",
       "ILHA DO BOI          91.43\n",
       "AEROPORTO            87.50"
      ]
     },
     "execution_count": 120,
     "metadata": {},
     "output_type": "execute_result"
    }
   ],
   "source": [
    "neigh = pd.pivot_table(data = show, index = [\"Neighbourhood\"], values = \"No_show\")\n",
    "result = neigh.sort_values(('No_show'), ascending=False).head(3)\n",
    "round(result * 100, 2)"
   ]
  },
  {
   "cell_type": "markdown",
   "id": "63b02ba5",
   "metadata": {},
   "source": [
    "PARQUE INDUSTRIAL had 100% show-rate!!!! "
   ]
  },
  {
   "cell_type": "markdown",
   "id": "fc94e33e",
   "metadata": {},
   "source": [
    "**Does recieving SMS increase the chances of a patient showing up?**"
   ]
  },
  {
   "cell_type": "code",
   "execution_count": 121,
   "id": "d8f7f704",
   "metadata": {},
   "outputs": [
    {
     "name": "stderr",
     "output_type": "stream",
     "text": [
      "C:\\Users\\User\\anaconda3\\envs\\portfolio_projects\\lib\\site-packages\\seaborn\\_decorators.py:36: FutureWarning: Pass the following variable as a keyword arg: x. From version 0.12, the only valid positional argument will be `data`, and passing other arguments without an explicit keyword will result in an error or misinterpretation.\n",
      "  warnings.warn(\n"
     ]
    },
    {
     "data": {
      "image/png": "[encoded data removed]",
      "text/plain": [
       "<Figure size 432x288 with 1 Axes>"
      ]
     },
     "metadata": {
      "needs_background": "light"
     },
     "output_type": "display_data"
    }
   ],
   "source": [
    "#we'll do this using the function we created earlier \n",
    "\n",
    "plotting(show.SMS_received, \"SMS\")\n",
    "x_ticks_labels=['No SMS', 'SMS']"
   ]
  },
  {
   "cell_type": "markdown",
   "id": "95332fe5",
   "metadata": {},
   "source": [
    "Taking into condideration the fact that the number of people that were not sent SMS is a lot larger than the number of people that were sent SMS, we can conclude that patients do not show up when they're sent SMS as compared to when no SMS is sent. \n",
    "\n",
    "This is counter intuitive but then it is possible that SMS was sent to only patients that have not kept to their appointment over a long period of time and they still didn't show up after the SMS was sent"
   ]
  },
  {
   "cell_type": "markdown",
   "id": "b5da186d",
   "metadata": {},
   "source": [
    "**Does setting appointments on particular days increase the chances of a patient showing up?**"
   ]
  },
  {
   "cell_type": "code",
   "execution_count": 122,
   "id": "92f63b02",
   "metadata": {},
   "outputs": [
    {
     "data": {
      "image/png": "[encoded data removed]",
      "text/plain": [
       "<Figure size 1152x288 with 1 Axes>"
      ]
     },
     "metadata": {
      "needs_background": "light"
     },
     "output_type": "display_data"
    }
   ],
   "source": [
    "orderly = ['Monday','Tuesday','Wednesday','Thursday','Friday','Saturday','Sunday']\n",
    "\n",
    "plt.figure(figsize=(16,4))\n",
    "appo = sns.countplot(x=show.Appointment_DOW, hue=show.No_show, order = orderly)\n",
    "appo.set_title(\"Show/NoShow for Appointment Day of the Week\")\n",
    "plt.show()"
   ]
  },
  {
   "cell_type": "markdown",
   "id": "0eae4f4d",
   "metadata": {},
   "source": [
    "Very little amount of appointments were booked for Saturday and Sunday. Apart from this, the days of the week does not affect the rate of show-up"
   ]
  },
  {
   "cell_type": "markdown",
   "id": "96cc7ec5",
   "metadata": {},
   "source": [
    "Lastly, let's see the relationship between Scheduled Day and No_show"
   ]
  },
  {
   "cell_type": "code",
   "execution_count": 123,
   "id": "7655bf3c",
   "metadata": {},
   "outputs": [
    {
     "data": {
      "text/plain": [
       "<AxesSubplot:xlabel='ScheduledDay', ylabel='No_show'>"
      ]
     },
     "execution_count": 123,
     "metadata": {},
     "output_type": "execute_result"
    },
    {
     "data": {
      "image/png": "[encoded data removed]",
      "text/plain": [
       "<Figure size 432x288 with 1 Axes>"
      ]
     },
     "metadata": {
      "needs_background": "light"
     },
     "output_type": "display_data"
    }
   ],
   "source": [
    "show.plot(x = 'ScheduledDay', y = 'No_show', kind = 'scatter')"
   ]
  },
  {
   "cell_type": "markdown",
   "id": "82f8df1a",
   "metadata": {},
   "source": [
    "No relationship between Scheduled day and No_show"
   ]
  },
  {
   "cell_type": "markdown",
   "id": "56d9ad3a",
   "metadata": {},
   "source": [
    "### CONCLUSION "
   ]
  },
  {
   "cell_type": "markdown",
   "id": "62155752",
   "metadata": {},
   "source": [
    "- Gender on it's own does not determine if a patient shows up for their appointment or not.\n",
    "\n",
    "- Males show up for their appointments more than females if they have been diagonized with alcoholism.\n",
    "\n",
    "- Patients within the ages of 13-29 miss their appointments more than patients within other age groups. However, patients from 59 years and above take their appointmentss more seriously. \n",
    "\n",
    "- Scholarship led to a positive impact when the patient was either diabetic or handicaped. However, it led to a negative impact when the patient was alcoholic\n",
    "\n",
    "- Sending SMS to patients had a negative impact. This is counter-intuitive but then it is possible that SMS was sent to patients only when they missed their appointments. "
   ]
  },
  {
   "cell_type": "markdown",
   "id": "e3b310d1",
   "metadata": {},
   "source": [
    "### LIMITATIONS"
   ]
  },
  {
   "cell_type": "markdown",
   "id": "f062e183",
   "metadata": {},
   "source": [
    "- The location of the patients was not provided. This would have helped to show if patents were missing their appointments due to distance\n",
    "\n",
    "- The data was collected for just 3 months. If data from other months were provided, it'd be possible to determine if there were months when most of the patients missed their appointments. \n",
    "\n",
    "- The time of the appointment was not properly given. If the time of the appointment was properly given, it'd be possible to determine if there was a particular time of the day when patients missed their appoimtments the most. "
   ]
  }
 ],
 "metadata": {
  "kernelspec": {
   "display_name": "Python 3 (ipykernel)",
   "language": "python",
   "name": "python3"
  },
  "language_info": {
   "codemirror_mode": {
    "name": "ipython",
    "version": 3
   },
   "file_extension": ".py",
   "mimetype": "text/x-python",
   "name": "python",
   "nbconvert_exporter": "python",
   "pygments_lexer": "ipython3",
   "version": "3.10.4"
  }
 },
 "nbformat": 4,
 "nbformat_minor": 5
}
